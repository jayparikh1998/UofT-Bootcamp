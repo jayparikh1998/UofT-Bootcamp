{
 "cells": [
  {
   "cell_type": "markdown",
   "metadata": {},
   "source": [
    "# VacationPy\n",
    "---\n",
    "\n",
    "## Starter Code to Import Libraries and Load the Weather and Coordinates Data"
   ]
  },
  {
   "cell_type": "code",
   "execution_count": 1,
   "metadata": {},
   "outputs": [
    {
     "data": {
      "application/javascript": "(function(root) {\n  function now() {\n    return new Date();\n  }\n\n  var force = true;\n  var py_version = '3.3.4'.replace('rc', '-rc.').replace('.dev', '-dev.');\n  var reloading = false;\n  var Bokeh = root.Bokeh;\n\n  if (typeof (root._bokeh_timeout) === \"undefined\" || force) {\n    root._bokeh_timeout = Date.now() + 5000;\n    root._bokeh_failed_load = false;\n  }\n\n  function run_callbacks() {\n    try {\n      root._bokeh_onload_callbacks.forEach(function(callback) {\n        if (callback != null)\n          callback();\n      });\n    } finally {\n      delete root._bokeh_onload_callbacks;\n    }\n    console.debug(\"Bokeh: all callbacks have finished\");\n  }\n\n  function load_libs(css_urls, js_urls, js_modules, js_exports, callback) {\n    if (css_urls == null) css_urls = [];\n    if (js_urls == null) js_urls = [];\n    if (js_modules == null) js_modules = [];\n    if (js_exports == null) js_exports = {};\n\n    root._bokeh_onload_callbacks.push(callback);\n\n    if (root._bokeh_is_loading > 0) {\n      console.debug(\"Bokeh: BokehJS is being loaded, scheduling callback at\", now());\n      return null;\n    }\n    if (js_urls.length === 0 && js_modules.length === 0 && Object.keys(js_exports).length === 0) {\n      run_callbacks();\n      return null;\n    }\n    if (!reloading) {\n      console.debug(\"Bokeh: BokehJS not loaded, scheduling load and callback at\", now());\n    }\n\n    function on_load() {\n      root._bokeh_is_loading--;\n      if (root._bokeh_is_loading === 0) {\n        console.debug(\"Bokeh: all BokehJS libraries/stylesheets loaded\");\n        run_callbacks()\n      }\n    }\n    window._bokeh_on_load = on_load\n\n    function on_error() {\n      console.error(\"failed to load \" + url);\n    }\n\n    var skip = [];\n    if (window.requirejs) {\n      window.requirejs.config({'packages': {}, 'paths': {'jspanel': 'https://cdn.jsdelivr.net/npm/jspanel4@4.12.0/dist/jspanel', 'jspanel-modal': 'https://cdn.jsdelivr.net/npm/jspanel4@4.12.0/dist/extensions/modal/jspanel.modal', 'jspanel-tooltip': 'https://cdn.jsdelivr.net/npm/jspanel4@4.12.0/dist/extensions/tooltip/jspanel.tooltip', 'jspanel-hint': 'https://cdn.jsdelivr.net/npm/jspanel4@4.12.0/dist/extensions/hint/jspanel.hint', 'jspanel-layout': 'https://cdn.jsdelivr.net/npm/jspanel4@4.12.0/dist/extensions/layout/jspanel.layout', 'jspanel-contextmenu': 'https://cdn.jsdelivr.net/npm/jspanel4@4.12.0/dist/extensions/contextmenu/jspanel.contextmenu', 'jspanel-dock': 'https://cdn.jsdelivr.net/npm/jspanel4@4.12.0/dist/extensions/dock/jspanel.dock', 'gridstack': 'https://cdn.jsdelivr.net/npm/gridstack@7.2.3/dist/gridstack-all', 'notyf': 'https://cdn.jsdelivr.net/npm/notyf@3/notyf.min'}, 'shim': {'jspanel': {'exports': 'jsPanel'}, 'gridstack': {'exports': 'GridStack'}}});\n      require([\"jspanel\"], function(jsPanel) {\n\twindow.jsPanel = jsPanel\n\ton_load()\n      })\n      require([\"jspanel-modal\"], function() {\n\ton_load()\n      })\n      require([\"jspanel-tooltip\"], function() {\n\ton_load()\n      })\n      require([\"jspanel-hint\"], function() {\n\ton_load()\n      })\n      require([\"jspanel-layout\"], function() {\n\ton_load()\n      })\n      require([\"jspanel-contextmenu\"], function() {\n\ton_load()\n      })\n      require([\"jspanel-dock\"], function() {\n\ton_load()\n      })\n      require([\"gridstack\"], function(GridStack) {\n\twindow.GridStack = GridStack\n\ton_load()\n      })\n      require([\"notyf\"], function() {\n\ton_load()\n      })\n      root._bokeh_is_loading = css_urls.length + 9;\n    } else {\n      root._bokeh_is_loading = css_urls.length + js_urls.length + js_modules.length + Object.keys(js_exports).length;\n    }\n\n    var existing_stylesheets = []\n    var links = document.getElementsByTagName('link')\n    for (var i = 0; i < links.length; i++) {\n      var link = links[i]\n      if (link.href != null) {\n\texisting_stylesheets.push(link.href)\n      }\n    }\n    for (var i = 0; i < css_urls.length; i++) {\n      var url = css_urls[i];\n      if (existing_stylesheets.indexOf(url) !== -1) {\n\ton_load()\n\tcontinue;\n      }\n      const element = document.createElement(\"link\");\n      element.onload = on_load;\n      element.onerror = on_error;\n      element.rel = \"stylesheet\";\n      element.type = \"text/css\";\n      element.href = url;\n      console.debug(\"Bokeh: injecting link tag for BokehJS stylesheet: \", url);\n      document.body.appendChild(element);\n    }    if (((window['jsPanel'] !== undefined) && (!(window['jsPanel'] instanceof HTMLElement))) || window.requirejs) {\n      var urls = ['https://cdn.holoviz.org/panel/1.3.8/dist/bundled/floatpanel/jspanel4@4.12.0/dist/jspanel.js', 'https://cdn.holoviz.org/panel/1.3.8/dist/bundled/floatpanel/jspanel4@4.12.0/dist/extensions/modal/jspanel.modal.js', 'https://cdn.holoviz.org/panel/1.3.8/dist/bundled/floatpanel/jspanel4@4.12.0/dist/extensions/tooltip/jspanel.tooltip.js', 'https://cdn.holoviz.org/panel/1.3.8/dist/bundled/floatpanel/jspanel4@4.12.0/dist/extensions/hint/jspanel.hint.js', 'https://cdn.holoviz.org/panel/1.3.8/dist/bundled/floatpanel/jspanel4@4.12.0/dist/extensions/layout/jspanel.layout.js', 'https://cdn.holoviz.org/panel/1.3.8/dist/bundled/floatpanel/jspanel4@4.12.0/dist/extensions/contextmenu/jspanel.contextmenu.js', 'https://cdn.holoviz.org/panel/1.3.8/dist/bundled/floatpanel/jspanel4@4.12.0/dist/extensions/dock/jspanel.dock.js'];\n      for (var i = 0; i < urls.length; i++) {\n        skip.push(urls[i])\n      }\n    }    if (((window['GridStack'] !== undefined) && (!(window['GridStack'] instanceof HTMLElement))) || window.requirejs) {\n      var urls = ['https://cdn.holoviz.org/panel/1.3.8/dist/bundled/gridstack/gridstack@7.2.3/dist/gridstack-all.js'];\n      for (var i = 0; i < urls.length; i++) {\n        skip.push(urls[i])\n      }\n    }    if (((window['Notyf'] !== undefined) && (!(window['Notyf'] instanceof HTMLElement))) || window.requirejs) {\n      var urls = ['https://cdn.holoviz.org/panel/1.3.8/dist/bundled/notificationarea/notyf@3/notyf.min.js'];\n      for (var i = 0; i < urls.length; i++) {\n        skip.push(urls[i])\n      }\n    }    var existing_scripts = []\n    var scripts = document.getElementsByTagName('script')\n    for (var i = 0; i < scripts.length; i++) {\n      var script = scripts[i]\n      if (script.src != null) {\n\texisting_scripts.push(script.src)\n      }\n    }\n    for (var i = 0; i < js_urls.length; i++) {\n      var url = js_urls[i];\n      if (skip.indexOf(url) !== -1 || existing_scripts.indexOf(url) !== -1) {\n\tif (!window.requirejs) {\n\t  on_load();\n\t}\n\tcontinue;\n      }\n      var element = document.createElement('script');\n      element.onload = on_load;\n      element.onerror = on_error;\n      element.async = false;\n      element.src = url;\n      console.debug(\"Bokeh: injecting script tag for BokehJS library: \", url);\n      document.head.appendChild(element);\n    }\n    for (var i = 0; i < js_modules.length; i++) {\n      var url = js_modules[i];\n      if (skip.indexOf(url) !== -1 || existing_scripts.indexOf(url) !== -1) {\n\tif (!window.requirejs) {\n\t  on_load();\n\t}\n\tcontinue;\n      }\n      var element = document.createElement('script');\n      element.onload = on_load;\n      element.onerror = on_error;\n      element.async = false;\n      element.src = url;\n      element.type = \"module\";\n      console.debug(\"Bokeh: injecting script tag for BokehJS library: \", url);\n      document.head.appendChild(element);\n    }\n    for (const name in js_exports) {\n      var url = js_exports[name];\n      if (skip.indexOf(url) >= 0 || root[name] != null) {\n\tif (!window.requirejs) {\n\t  on_load();\n\t}\n\tcontinue;\n      }\n      var element = document.createElement('script');\n      element.onerror = on_error;\n      element.async = false;\n      element.type = \"module\";\n      console.debug(\"Bokeh: injecting script tag for BokehJS library: \", url);\n      element.textContent = `\n      import ${name} from \"${url}\"\n      window.${name} = ${name}\n      window._bokeh_on_load()\n      `\n      document.head.appendChild(element);\n    }\n    if (!js_urls.length && !js_modules.length) {\n      on_load()\n    }\n  };\n\n  function inject_raw_css(css) {\n    const element = document.createElement(\"style\");\n    element.appendChild(document.createTextNode(css));\n    document.body.appendChild(element);\n  }\n\n  var js_urls = [\"https://cdn.bokeh.org/bokeh/release/bokeh-3.3.4.min.js\", \"https://cdn.bokeh.org/bokeh/release/bokeh-gl-3.3.4.min.js\", \"https://cdn.bokeh.org/bokeh/release/bokeh-widgets-3.3.4.min.js\", \"https://cdn.bokeh.org/bokeh/release/bokeh-tables-3.3.4.min.js\", \"https://cdn.holoviz.org/panel/1.3.8/dist/panel.min.js\"];\n  var js_modules = [];\n  var js_exports = {};\n  var css_urls = [];\n  var inline_js = [    function(Bokeh) {\n      Bokeh.set_log_level(\"info\");\n    },\nfunction(Bokeh) {} // ensure no trailing comma for IE\n  ];\n\n  function run_inline_js() {\n    if ((root.Bokeh !== undefined) || (force === true)) {\n      for (var i = 0; i < inline_js.length; i++) {\n\ttry {\n          inline_js[i].call(root, root.Bokeh);\n\t} catch(e) {\n\t  if (!reloading) {\n\t    throw e;\n\t  }\n\t}\n      }\n      // Cache old bokeh versions\n      if (Bokeh != undefined && !reloading) {\n\tvar NewBokeh = root.Bokeh;\n\tif (Bokeh.versions === undefined) {\n\t  Bokeh.versions = new Map();\n\t}\n\tif (NewBokeh.version !== Bokeh.version) {\n\t  Bokeh.versions.set(NewBokeh.version, NewBokeh)\n\t}\n\troot.Bokeh = Bokeh;\n      }} else if (Date.now() < root._bokeh_timeout) {\n      setTimeout(run_inline_js, 100);\n    } else if (!root._bokeh_failed_load) {\n      console.log(\"Bokeh: BokehJS failed to load within specified timeout.\");\n      root._bokeh_failed_load = true;\n    }\n    root._bokeh_is_initializing = false\n  }\n\n  function load_or_wait() {\n    // Implement a backoff loop that tries to ensure we do not load multiple\n    // versions of Bokeh and its dependencies at the same time.\n    // In recent versions we use the root._bokeh_is_initializing flag\n    // to determine whether there is an ongoing attempt to initialize\n    // bokeh, however for backward compatibility we also try to ensure\n    // that we do not start loading a newer (Panel>=1.0 and Bokeh>3) version\n    // before older versions are fully initialized.\n    if (root._bokeh_is_initializing && Date.now() > root._bokeh_timeout) {\n      root._bokeh_is_initializing = false;\n      root._bokeh_onload_callbacks = undefined;\n      console.log(\"Bokeh: BokehJS was loaded multiple times but one version failed to initialize.\");\n      load_or_wait();\n    } else if (root._bokeh_is_initializing || (typeof root._bokeh_is_initializing === \"undefined\" && root._bokeh_onload_callbacks !== undefined)) {\n      setTimeout(load_or_wait, 100);\n    } else {\n      root._bokeh_is_initializing = true\n      root._bokeh_onload_callbacks = []\n      var bokeh_loaded = Bokeh != null && (Bokeh.version === py_version || (Bokeh.versions !== undefined && Bokeh.versions.has(py_version)));\n      if (!reloading && !bokeh_loaded) {\n\troot.Bokeh = undefined;\n      }\n      load_libs(css_urls, js_urls, js_modules, js_exports, function() {\n\tconsole.debug(\"Bokeh: BokehJS plotting callback run at\", now());\n\trun_inline_js();\n      });\n    }\n  }\n  // Give older versions of the autoload script a head-start to ensure\n  // they initialize before we start loading newer version.\n  setTimeout(load_or_wait, 100)\n}(window));",
      "application/vnd.holoviews_load.v0+json": ""
     },
     "metadata": {},
     "output_type": "display_data"
    },
    {
     "data": {
      "application/javascript": "\nif ((window.PyViz === undefined) || (window.PyViz instanceof HTMLElement)) {\n  window.PyViz = {comms: {}, comm_status:{}, kernels:{}, receivers: {}, plot_index: []}\n}\n\n\n    function JupyterCommManager() {\n    }\n\n    JupyterCommManager.prototype.register_target = function(plot_id, comm_id, msg_handler) {\n      if (window.comm_manager || ((window.Jupyter !== undefined) && (Jupyter.notebook.kernel != null))) {\n        var comm_manager = window.comm_manager || Jupyter.notebook.kernel.comm_manager;\n        comm_manager.register_target(comm_id, function(comm) {\n          comm.on_msg(msg_handler);\n        });\n      } else if ((plot_id in window.PyViz.kernels) && (window.PyViz.kernels[plot_id])) {\n        window.PyViz.kernels[plot_id].registerCommTarget(comm_id, function(comm) {\n          comm.onMsg = msg_handler;\n        });\n      } else if (typeof google != 'undefined' && google.colab.kernel != null) {\n        google.colab.kernel.comms.registerTarget(comm_id, (comm) => {\n          var messages = comm.messages[Symbol.asyncIterator]();\n          function processIteratorResult(result) {\n            var message = result.value;\n            console.log(message)\n            var content = {data: message.data, comm_id};\n            var buffers = []\n            for (var buffer of message.buffers || []) {\n              buffers.push(new DataView(buffer))\n            }\n            var metadata = message.metadata || {};\n            var msg = {content, buffers, metadata}\n            msg_handler(msg);\n            return messages.next().then(processIteratorResult);\n          }\n          return messages.next().then(processIteratorResult);\n        })\n      }\n    }\n\n    JupyterCommManager.prototype.get_client_comm = function(plot_id, comm_id, msg_handler) {\n      if (comm_id in window.PyViz.comms) {\n        return window.PyViz.comms[comm_id];\n      } else if (window.comm_manager || ((window.Jupyter !== undefined) && (Jupyter.notebook.kernel != null))) {\n        var comm_manager = window.comm_manager || Jupyter.notebook.kernel.comm_manager;\n        var comm = comm_manager.new_comm(comm_id, {}, {}, {}, comm_id);\n        if (msg_handler) {\n          comm.on_msg(msg_handler);\n        }\n      } else if ((plot_id in window.PyViz.kernels) && (window.PyViz.kernels[plot_id])) {\n        var comm = window.PyViz.kernels[plot_id].connectToComm(comm_id);\n        comm.open();\n        if (msg_handler) {\n          comm.onMsg = msg_handler;\n        }\n      } else if (typeof google != 'undefined' && google.colab.kernel != null) {\n        var comm_promise = google.colab.kernel.comms.open(comm_id)\n        comm_promise.then((comm) => {\n          window.PyViz.comms[comm_id] = comm;\n          if (msg_handler) {\n            var messages = comm.messages[Symbol.asyncIterator]();\n            function processIteratorResult(result) {\n              var message = result.value;\n              var content = {data: message.data};\n              var metadata = message.metadata || {comm_id};\n              var msg = {content, metadata}\n              msg_handler(msg);\n              return messages.next().then(processIteratorResult);\n            }\n            return messages.next().then(processIteratorResult);\n          }\n        }) \n        var sendClosure = (data, metadata, buffers, disposeOnDone) => {\n          return comm_promise.then((comm) => {\n            comm.send(data, metadata, buffers, disposeOnDone);\n          });\n        };\n        var comm = {\n          send: sendClosure\n        };\n      }\n      window.PyViz.comms[comm_id] = comm;\n      return comm;\n    }\n    window.PyViz.comm_manager = new JupyterCommManager();\n    \n\n\nvar JS_MIME_TYPE = 'application/javascript';\nvar HTML_MIME_TYPE = 'text/html';\nvar EXEC_MIME_TYPE = 'application/vnd.holoviews_exec.v0+json';\nvar CLASS_NAME = 'output';\n\n/**\n * Render data to the DOM node\n */\nfunction render(props, node) {\n  var div = document.createElement(\"div\");\n  var script = document.createElement(\"script\");\n  node.appendChild(div);\n  node.appendChild(script);\n}\n\n/**\n * Handle when a new output is added\n */\nfunction handle_add_output(event, handle) {\n  var output_area = handle.output_area;\n  var output = handle.output;\n  if ((output.data == undefined) || (!output.data.hasOwnProperty(EXEC_MIME_TYPE))) {\n    return\n  }\n  var id = output.metadata[EXEC_MIME_TYPE][\"id\"];\n  var toinsert = output_area.element.find(\".\" + CLASS_NAME.split(' ')[0]);\n  if (id !== undefined) {\n    var nchildren = toinsert.length;\n    var html_node = toinsert[nchildren-1].children[0];\n    html_node.innerHTML = output.data[HTML_MIME_TYPE];\n    var scripts = [];\n    var nodelist = html_node.querySelectorAll(\"script\");\n    for (var i in nodelist) {\n      if (nodelist.hasOwnProperty(i)) {\n        scripts.push(nodelist[i])\n      }\n    }\n\n    scripts.forEach( function (oldScript) {\n      var newScript = document.createElement(\"script\");\n      var attrs = [];\n      var nodemap = oldScript.attributes;\n      for (var j in nodemap) {\n        if (nodemap.hasOwnProperty(j)) {\n          attrs.push(nodemap[j])\n        }\n      }\n      attrs.forEach(function(attr) { newScript.setAttribute(attr.name, attr.value) });\n      newScript.appendChild(document.createTextNode(oldScript.innerHTML));\n      oldScript.parentNode.replaceChild(newScript, oldScript);\n    });\n    if (JS_MIME_TYPE in output.data) {\n      toinsert[nchildren-1].children[1].textContent = output.data[JS_MIME_TYPE];\n    }\n    output_area._hv_plot_id = id;\n    if ((window.Bokeh !== undefined) && (id in Bokeh.index)) {\n      window.PyViz.plot_index[id] = Bokeh.index[id];\n    } else {\n      window.PyViz.plot_index[id] = null;\n    }\n  } else if (output.metadata[EXEC_MIME_TYPE][\"server_id\"] !== undefined) {\n    var bk_div = document.createElement(\"div\");\n    bk_div.innerHTML = output.data[HTML_MIME_TYPE];\n    var script_attrs = bk_div.children[0].attributes;\n    for (var i = 0; i < script_attrs.length; i++) {\n      toinsert[toinsert.length - 1].childNodes[1].setAttribute(script_attrs[i].name, script_attrs[i].value);\n    }\n    // store reference to server id on output_area\n    output_area._bokeh_server_id = output.metadata[EXEC_MIME_TYPE][\"server_id\"];\n  }\n}\n\n/**\n * Handle when an output is cleared or removed\n */\nfunction handle_clear_output(event, handle) {\n  var id = handle.cell.output_area._hv_plot_id;\n  var server_id = handle.cell.output_area._bokeh_server_id;\n  if (((id === undefined) || !(id in PyViz.plot_index)) && (server_id !== undefined)) { return; }\n  var comm = window.PyViz.comm_manager.get_client_comm(\"hv-extension-comm\", \"hv-extension-comm\", function () {});\n  if (server_id !== null) {\n    comm.send({event_type: 'server_delete', 'id': server_id});\n    return;\n  } else if (comm !== null) {\n    comm.send({event_type: 'delete', 'id': id});\n  }\n  delete PyViz.plot_index[id];\n  if ((window.Bokeh !== undefined) & (id in window.Bokeh.index)) {\n    var doc = window.Bokeh.index[id].model.document\n    doc.clear();\n    const i = window.Bokeh.documents.indexOf(doc);\n    if (i > -1) {\n      window.Bokeh.documents.splice(i, 1);\n    }\n  }\n}\n\n/**\n * Handle kernel restart event\n */\nfunction handle_kernel_cleanup(event, handle) {\n  delete PyViz.comms[\"hv-extension-comm\"];\n  window.PyViz.plot_index = {}\n}\n\n/**\n * Handle update_display_data messages\n */\nfunction handle_update_output(event, handle) {\n  handle_clear_output(event, {cell: {output_area: handle.output_area}})\n  handle_add_output(event, handle)\n}\n\nfunction register_renderer(events, OutputArea) {\n  function append_mime(data, metadata, element) {\n    // create a DOM node to render to\n    var toinsert = this.create_output_subarea(\n    metadata,\n    CLASS_NAME,\n    EXEC_MIME_TYPE\n    );\n    this.keyboard_manager.register_events(toinsert);\n    // Render to node\n    var props = {data: data, metadata: metadata[EXEC_MIME_TYPE]};\n    render(props, toinsert[0]);\n    element.append(toinsert);\n    return toinsert\n  }\n\n  events.on('output_added.OutputArea', handle_add_output);\n  events.on('output_updated.OutputArea', handle_update_output);\n  events.on('clear_output.CodeCell', handle_clear_output);\n  events.on('delete.Cell', handle_clear_output);\n  events.on('kernel_ready.Kernel', handle_kernel_cleanup);\n\n  OutputArea.prototype.register_mime_type(EXEC_MIME_TYPE, append_mime, {\n    safe: true,\n    index: 0\n  });\n}\n\nif (window.Jupyter !== undefined) {\n  try {\n    var events = require('base/js/events');\n    var OutputArea = require('notebook/js/outputarea').OutputArea;\n    if (OutputArea.prototype.mime_types().indexOf(EXEC_MIME_TYPE) == -1) {\n      register_renderer(events, OutputArea);\n    }\n  } catch(err) {\n  }\n}\n",
      "application/vnd.holoviews_load.v0+json": ""
     },
     "metadata": {},
     "output_type": "display_data"
    },
    {
     "data": {
      "text/html": [
       "<style>*[data-root-id],\n",
       "*[data-root-id] > * {\n",
       "  box-sizing: border-box;\n",
       "  font-family: var(--jp-ui-font-family);\n",
       "  font-size: var(--jp-ui-font-size1);\n",
       "  color: var(--vscode-editor-foreground, var(--jp-ui-font-color1));\n",
       "}\n",
       "\n",
       "/* Override VSCode background color */\n",
       ".cell-output-ipywidget-background:has(\n",
       "    > .cell-output-ipywidget-background > .lm-Widget > *[data-root-id]\n",
       "  ),\n",
       ".cell-output-ipywidget-background:has(> .lm-Widget > *[data-root-id]) {\n",
       "  background-color: transparent !important;\n",
       "}\n",
       "</style>"
      ]
     },
     "metadata": {},
     "output_type": "display_data"
    },
    {
     "data": {
      "application/vnd.holoviews_exec.v0+json": "",
      "text/html": [
       "<div id='p1002'>\n",
       "  <div id=\"b32ab172-bea1-4bce-a992-d707019b1c63\" data-root-id=\"p1002\" style=\"display: contents;\"></div>\n",
       "</div>\n",
       "<script type=\"application/javascript\">(function(root) {\n",
       "  var docs_json = {\"ff59c01a-7f4d-4096-81d6-80d3eb712e86\":{\"version\":\"3.3.4\",\"title\":\"Bokeh Application\",\"roots\":[{\"type\":\"object\",\"name\":\"panel.models.browser.BrowserInfo\",\"id\":\"p1002\"},{\"type\":\"object\",\"name\":\"panel.models.comm_manager.CommManager\",\"id\":\"p1003\",\"attributes\":{\"plot_id\":\"p1002\",\"comm_id\":\"7cf5081e7412463f9a04c6f91b9bbaec\",\"client_comm_id\":\"8f8f754e47a64755ab3b917dc33e4aa1\"}}],\"defs\":[{\"type\":\"model\",\"name\":\"ReactiveHTML1\"},{\"type\":\"model\",\"name\":\"FlexBox1\",\"properties\":[{\"name\":\"align_content\",\"kind\":\"Any\",\"default\":\"flex-start\"},{\"name\":\"align_items\",\"kind\":\"Any\",\"default\":\"flex-start\"},{\"name\":\"flex_direction\",\"kind\":\"Any\",\"default\":\"row\"},{\"name\":\"flex_wrap\",\"kind\":\"Any\",\"default\":\"wrap\"},{\"name\":\"justify_content\",\"kind\":\"Any\",\"default\":\"flex-start\"}]},{\"type\":\"model\",\"name\":\"FloatPanel1\",\"properties\":[{\"name\":\"config\",\"kind\":\"Any\",\"default\":{\"type\":\"map\"}},{\"name\":\"contained\",\"kind\":\"Any\",\"default\":true},{\"name\":\"position\",\"kind\":\"Any\",\"default\":\"right-top\"},{\"name\":\"offsetx\",\"kind\":\"Any\",\"default\":null},{\"name\":\"offsety\",\"kind\":\"Any\",\"default\":null},{\"name\":\"theme\",\"kind\":\"Any\",\"default\":\"primary\"},{\"name\":\"status\",\"kind\":\"Any\",\"default\":\"normalized\"}]},{\"type\":\"model\",\"name\":\"GridStack1\",\"properties\":[{\"name\":\"mode\",\"kind\":\"Any\",\"default\":\"warn\"},{\"name\":\"ncols\",\"kind\":\"Any\",\"default\":null},{\"name\":\"nrows\",\"kind\":\"Any\",\"default\":null},{\"name\":\"allow_resize\",\"kind\":\"Any\",\"default\":true},{\"name\":\"allow_drag\",\"kind\":\"Any\",\"default\":true},{\"name\":\"state\",\"kind\":\"Any\",\"default\":[]}]},{\"type\":\"model\",\"name\":\"drag1\",\"properties\":[{\"name\":\"slider_width\",\"kind\":\"Any\",\"default\":5},{\"name\":\"slider_color\",\"kind\":\"Any\",\"default\":\"black\"},{\"name\":\"value\",\"kind\":\"Any\",\"default\":50}]},{\"type\":\"model\",\"name\":\"click1\",\"properties\":[{\"name\":\"terminal_output\",\"kind\":\"Any\",\"default\":\"\"},{\"name\":\"debug_name\",\"kind\":\"Any\",\"default\":\"\"},{\"name\":\"clears\",\"kind\":\"Any\",\"default\":0}]},{\"type\":\"model\",\"name\":\"copy_to_clipboard1\",\"properties\":[{\"name\":\"fill\",\"kind\":\"Any\",\"default\":\"none\"},{\"name\":\"value\",\"kind\":\"Any\",\"default\":null}]},{\"type\":\"model\",\"name\":\"FastWrapper1\",\"properties\":[{\"name\":\"object\",\"kind\":\"Any\",\"default\":null},{\"name\":\"style\",\"kind\":\"Any\",\"default\":null}]},{\"type\":\"model\",\"name\":\"NotificationAreaBase1\",\"properties\":[{\"name\":\"js_events\",\"kind\":\"Any\",\"default\":{\"type\":\"map\"}},{\"name\":\"position\",\"kind\":\"Any\",\"default\":\"bottom-right\"},{\"name\":\"_clear\",\"kind\":\"Any\",\"default\":0}]},{\"type\":\"model\",\"name\":\"NotificationArea1\",\"properties\":[{\"name\":\"js_events\",\"kind\":\"Any\",\"default\":{\"type\":\"map\"}},{\"name\":\"notifications\",\"kind\":\"Any\",\"default\":[]},{\"name\":\"position\",\"kind\":\"Any\",\"default\":\"bottom-right\"},{\"name\":\"_clear\",\"kind\":\"Any\",\"default\":0},{\"name\":\"types\",\"kind\":\"Any\",\"default\":[{\"type\":\"map\",\"entries\":[[\"type\",\"warning\"],[\"background\",\"#ffc107\"],[\"icon\",{\"type\":\"map\",\"entries\":[[\"className\",\"fas fa-exclamation-triangle\"],[\"tagName\",\"i\"],[\"color\",\"white\"]]}]]},{\"type\":\"map\",\"entries\":[[\"type\",\"info\"],[\"background\",\"#007bff\"],[\"icon\",{\"type\":\"map\",\"entries\":[[\"className\",\"fas fa-info-circle\"],[\"tagName\",\"i\"],[\"color\",\"white\"]]}]]}]}]},{\"type\":\"model\",\"name\":\"Notification\",\"properties\":[{\"name\":\"background\",\"kind\":\"Any\",\"default\":null},{\"name\":\"duration\",\"kind\":\"Any\",\"default\":3000},{\"name\":\"icon\",\"kind\":\"Any\",\"default\":null},{\"name\":\"message\",\"kind\":\"Any\",\"default\":\"\"},{\"name\":\"notification_type\",\"kind\":\"Any\",\"default\":null},{\"name\":\"_destroyed\",\"kind\":\"Any\",\"default\":false}]},{\"type\":\"model\",\"name\":\"TemplateActions1\",\"properties\":[{\"name\":\"open_modal\",\"kind\":\"Any\",\"default\":0},{\"name\":\"close_modal\",\"kind\":\"Any\",\"default\":0}]},{\"type\":\"model\",\"name\":\"BootstrapTemplateActions1\",\"properties\":[{\"name\":\"open_modal\",\"kind\":\"Any\",\"default\":0},{\"name\":\"close_modal\",\"kind\":\"Any\",\"default\":0}]},{\"type\":\"model\",\"name\":\"MaterialTemplateActions1\",\"properties\":[{\"name\":\"open_modal\",\"kind\":\"Any\",\"default\":0},{\"name\":\"close_modal\",\"kind\":\"Any\",\"default\":0}]}]}};\n",
       "  var render_items = [{\"docid\":\"ff59c01a-7f4d-4096-81d6-80d3eb712e86\",\"roots\":{\"p1002\":\"b32ab172-bea1-4bce-a992-d707019b1c63\"},\"root_ids\":[\"p1002\"]}];\n",
       "  var docs = Object.values(docs_json)\n",
       "  if (!docs) {\n",
       "    return\n",
       "  }\n",
       "  const py_version = docs[0].version.replace('rc', '-rc.').replace('.dev', '-dev.')\n",
       "  function embed_document(root) {\n",
       "    var Bokeh = get_bokeh(root)\n",
       "    Bokeh.embed.embed_items_notebook(docs_json, render_items);\n",
       "    for (const render_item of render_items) {\n",
       "      for (const root_id of render_item.root_ids) {\n",
       "\tconst id_el = document.getElementById(root_id)\n",
       "\tif (id_el.children.length && (id_el.children[0].className === 'bk-root')) {\n",
       "\t  const root_el = id_el.children[0]\n",
       "\t  root_el.id = root_el.id + '-rendered'\n",
       "\t}\n",
       "      }\n",
       "    }\n",
       "  }\n",
       "  function get_bokeh(root) {\n",
       "    if (root.Bokeh === undefined) {\n",
       "      return null\n",
       "    } else if (root.Bokeh.version !== py_version) {\n",
       "      if (root.Bokeh.versions === undefined || !root.Bokeh.versions.has(py_version)) {\n",
       "\treturn null\n",
       "      }\n",
       "      return root.Bokeh.versions.get(py_version);\n",
       "    } else if (root.Bokeh.version === py_version) {\n",
       "      return root.Bokeh\n",
       "    }\n",
       "    return null\n",
       "  }\n",
       "  function is_loaded(root) {\n",
       "    var Bokeh = get_bokeh(root)\n",
       "    return (Bokeh != null && Bokeh.Panel !== undefined)\n",
       "  }\n",
       "  if (is_loaded(root)) {\n",
       "    embed_document(root);\n",
       "  } else {\n",
       "    var attempts = 0;\n",
       "    var timer = setInterval(function(root) {\n",
       "      if (is_loaded(root)) {\n",
       "        clearInterval(timer);\n",
       "        embed_document(root);\n",
       "      } else if (document.readyState == \"complete\") {\n",
       "        attempts++;\n",
       "        if (attempts > 200) {\n",
       "          clearInterval(timer);\n",
       "\t  var Bokeh = get_bokeh(root)\n",
       "\t  if (Bokeh == null || Bokeh.Panel == null) {\n",
       "            console.warn(\"Panel: ERROR: Unable to run Panel code because Bokeh or Panel library is missing\");\n",
       "\t  } else {\n",
       "\t    console.warn(\"Panel: WARNING: Attempting to render but not all required libraries could be resolved.\")\n",
       "\t    embed_document(root)\n",
       "\t  }\n",
       "        }\n",
       "      }\n",
       "    }, 25, root)\n",
       "  }\n",
       "})(window);</script>"
      ]
     },
     "metadata": {
      "application/vnd.holoviews_exec.v0+json": {
       "id": "p1002"
      }
     },
     "output_type": "display_data"
    },
    {
     "name": "stderr",
     "output_type": "stream",
     "text": [
      "c:\\Users\\jaypa\\AppData\\Local\\Programs\\Python\\Python39\\lib\\site-packages\\requests\\__init__.py:102: RequestsDependencyWarning: urllib3 (1.26.7) or chardet (None)/charset_normalizer (3.3.2) doesn't match a supported version!\n",
      "  warnings.warn(\"urllib3 ({}) or chardet ({})/charset_normalizer ({}) doesn't match a supported \"\n"
     ]
    }
   ],
   "source": [
    "# Dependencies and Setup\n",
    "import hvplot.pandas\n",
    "import pandas as pd\n",
    "import requests\n",
    "import plotly.express as px\n",
    "\n",
    "# Import API key\n",
    "from api_keys import geoapify_key"
   ]
  },
  {
   "cell_type": "code",
   "execution_count": 2,
   "metadata": {},
   "outputs": [
    {
     "data": {
      "text/html": [
       "<div>\n",
       "<style scoped>\n",
       "    .dataframe tbody tr th:only-of-type {\n",
       "        vertical-align: middle;\n",
       "    }\n",
       "\n",
       "    .dataframe tbody tr th {\n",
       "        vertical-align: top;\n",
       "    }\n",
       "\n",
       "    .dataframe thead th {\n",
       "        text-align: right;\n",
       "    }\n",
       "</style>\n",
       "<table border=\"1\" class=\"dataframe\">\n",
       "  <thead>\n",
       "    <tr style=\"text-align: right;\">\n",
       "      <th></th>\n",
       "      <th>City_ID</th>\n",
       "      <th>City</th>\n",
       "      <th>Lat</th>\n",
       "      <th>Lng</th>\n",
       "      <th>Max Temp</th>\n",
       "      <th>Humidity</th>\n",
       "      <th>Cloudiness</th>\n",
       "      <th>Wind Speed</th>\n",
       "      <th>Country</th>\n",
       "      <th>Date</th>\n",
       "    </tr>\n",
       "  </thead>\n",
       "  <tbody>\n",
       "    <tr>\n",
       "      <th>0</th>\n",
       "      <td>0</td>\n",
       "      <td>buncrana</td>\n",
       "      <td>55.1333</td>\n",
       "      <td>-7.4500</td>\n",
       "      <td>277.03</td>\n",
       "      <td>72</td>\n",
       "      <td>100</td>\n",
       "      <td>3.16</td>\n",
       "      <td>IE</td>\n",
       "      <td>1707263542</td>\n",
       "    </tr>\n",
       "    <tr>\n",
       "      <th>1</th>\n",
       "      <td>1</td>\n",
       "      <td>port-aux-francais</td>\n",
       "      <td>-49.3500</td>\n",
       "      <td>70.2167</td>\n",
       "      <td>279.53</td>\n",
       "      <td>92</td>\n",
       "      <td>100</td>\n",
       "      <td>10.05</td>\n",
       "      <td>TF</td>\n",
       "      <td>1707263543</td>\n",
       "    </tr>\n",
       "    <tr>\n",
       "      <th>2</th>\n",
       "      <td>2</td>\n",
       "      <td>zouerate</td>\n",
       "      <td>22.7187</td>\n",
       "      <td>-12.4521</td>\n",
       "      <td>291.35</td>\n",
       "      <td>10</td>\n",
       "      <td>12</td>\n",
       "      <td>4.34</td>\n",
       "      <td>MR</td>\n",
       "      <td>1707263543</td>\n",
       "    </tr>\n",
       "    <tr>\n",
       "      <th>3</th>\n",
       "      <td>3</td>\n",
       "      <td>ribeira grande</td>\n",
       "      <td>38.5167</td>\n",
       "      <td>-28.7000</td>\n",
       "      <td>290.80</td>\n",
       "      <td>94</td>\n",
       "      <td>90</td>\n",
       "      <td>6.71</td>\n",
       "      <td>PT</td>\n",
       "      <td>1707263543</td>\n",
       "    </tr>\n",
       "    <tr>\n",
       "      <th>4</th>\n",
       "      <td>4</td>\n",
       "      <td>bodo</td>\n",
       "      <td>67.2800</td>\n",
       "      <td>14.4050</td>\n",
       "      <td>267.17</td>\n",
       "      <td>86</td>\n",
       "      <td>100</td>\n",
       "      <td>8.23</td>\n",
       "      <td>NO</td>\n",
       "      <td>1707263543</td>\n",
       "    </tr>\n",
       "  </tbody>\n",
       "</table>\n",
       "</div>"
      ],
      "text/plain": [
       "   City_ID               City      Lat      Lng  Max Temp  Humidity  \\\n",
       "0        0           buncrana  55.1333  -7.4500    277.03        72   \n",
       "1        1  port-aux-francais -49.3500  70.2167    279.53        92   \n",
       "2        2           zouerate  22.7187 -12.4521    291.35        10   \n",
       "3        3     ribeira grande  38.5167 -28.7000    290.80        94   \n",
       "4        4               bodo  67.2800  14.4050    267.17        86   \n",
       "\n",
       "   Cloudiness  Wind Speed Country        Date  \n",
       "0         100        3.16      IE  1707263542  \n",
       "1         100       10.05      TF  1707263543  \n",
       "2          12        4.34      MR  1707263543  \n",
       "3          90        6.71      PT  1707263543  \n",
       "4         100        8.23      NO  1707263543  "
      ]
     },
     "execution_count": 2,
     "metadata": {},
     "output_type": "execute_result"
    }
   ],
   "source": [
    "# Load the CSV file created in Part 1 into a Pandas DataFrame\n",
    "city_data_df = pd.read_csv(\"C:/Users/jaypa/OneDrive/Documents/GitHub/UofT Bootcamp/python_api_challenge/output_data/cities.csv\")\n",
    "\n",
    "# Display sample data\n",
    "city_data_df.head()"
   ]
  },
  {
   "cell_type": "markdown",
   "metadata": {},
   "source": [
    "---\n",
    "\n",
    "### Step 1: Create a map that displays a point for every city in the `city_data_df` DataFrame. The size of the point should be the humidity in each city."
   ]
  },
  {
   "cell_type": "code",
   "execution_count": 3,
   "metadata": {},
   "outputs": [
    {
     "data": {
      "application/vnd.plotly.v1+json": {
       "config": {
        "plotlyServerURL": "https://plot.ly"
       },
       "data": [
        {
         "geo": "geo",
         "hovertemplate": "<b>%{hovertext}</b><br><br>Humidity=%{marker.color}<br>Lat=%{lat}<br>Lng=%{lon}<extra></extra>",
         "hovertext": [
          "buncrana",
          "port-aux-francais",
          "zouerate",
          "ribeira grande",
          "bodo",
          "saldanha",
          "chui",
          "haiku-pauwela",
          "hamilton",
          "saint-felix-de-valois",
          "adamstown",
          "tumpat",
          "greymouth",
          "yellowknife",
          "carnarvon",
          "utrik",
          "talnakh",
          "monroe",
          "nagqu",
          "grytviken",
          "vila franca do campo",
          "sovetskiy",
          "hawaiian paradise park",
          "veraval",
          "smithers",
          "margate",
          "waitangi",
          "al muwayh",
          "constantia",
          "bandon",
          "atafu village",
          "forster",
          "holualoa",
          "margaret river",
          "east london",
          "ca mau",
          "bredasdorp",
          "georgetown",
          "bethel",
          "punta arenas",
          "san rafael",
          "fale old settlement",
          "susuman",
          "remire-montjoly",
          "luderitz",
          "urengoy",
          "port mathurin",
          "iqaluit",
          "al artawiyah",
          "rach gia",
          "saynshand",
          "severo-yeniseyskiy",
          "hadibu",
          "puerto ayora",
          "sinhyeon",
          "wailua homesteads",
          "port elizabeth",
          "new norfolk",
          "badger",
          "alice springs",
          "avarua",
          "tocopilla",
          "puerto natales",
          "tual",
          "betio village",
          "isafjordur",
          "zhangye",
          "tura",
          "hermanus",
          "bengkulu",
          "hasaki",
          "longyearbyen",
          "blackmans bay",
          "saint-pierre",
          "gharyan",
          "papatowai",
          "san luis de la loma",
          "edinburgh of the seven seas",
          "awjilah",
          "grahamstown",
          "kittila",
          "port alfred",
          "nemuro",
          "st. paul",
          "tiksi",
          "udachny",
          "ushuaia",
          "albany",
          "mahina",
          "san antonio de pale",
          "kruisfontein",
          "piacabucu",
          "st. john's",
          "klyuchi",
          "chinde",
          "stanley",
          "nuevitas",
          "la'ie",
          "jamestown",
          "leava",
          "tazovsky",
          "san miguel",
          "kiunga",
          "narasannapeta",
          "chonchi",
          "hithadhoo",
          "daru",
          "arzgir",
          "lihue",
          "maintirano",
          "mossel bay",
          "lebu",
          "touros",
          "thal",
          "sillamae",
          "ust-nera",
          "qaqortoq",
          "sandnessjoen",
          "argo",
          "invercargill",
          "olonkinbyen",
          "jam sahib",
          "wanning",
          "enewetak",
          "selfoss",
          "al kharijah",
          "college",
          "lakatoro",
          "kapuskasing",
          "kismayo",
          "kodiak",
          "bambari",
          "glace bay",
          "baruun-urt",
          "wynyard",
          "polyarnyy",
          "rio grande",
          "saipan",
          "al ghayzah",
          "emerald",
          "gillette",
          "struer",
          "meizhou",
          "ketchikan",
          "lyantor",
          "guerrero negro",
          "puerto baquerizo moreno",
          "neiafu",
          "kingston",
          "tucuma",
          "sitka",
          "ocher",
          "luau",
          "cape town",
          "yemva",
          "hagere maryam",
          "ormara",
          "senador jose porfirio",
          "fort-shevchenko",
          "motygino",
          "wenchang",
          "tome acu",
          "nakhon thai",
          "auki",
          "cabo san lucas",
          "yabelo",
          "ilulissat",
          "mahibadhoo",
          "axim",
          "codrington",
          "ewo",
          "lompoc",
          "yaren",
          "san fernando",
          "bikenibeu village",
          "tela",
          "hirara",
          "villa gesell",
          "dunedin",
          "shenjiamen",
          "fortuna",
          "praia da vitoria",
          "whitehorse",
          "kone",
          "general ramirez",
          "yerofey pavlovich",
          "road town",
          "santiago del estero",
          "west island",
          "huarmey",
          "mount pearl",
          "alofi",
          "petropavlovsk-kamchatsky",
          "anadyr",
          "bilibino",
          "kurumkan",
          "colonia",
          "dakhla",
          "garachico",
          "ola",
          "suances",
          "ilomantsi",
          "tingo maria",
          "noosa heads",
          "keflavik",
          "tsumeb",
          "ar rutbah",
          "sergeyevka",
          "lorengau",
          "bakanas",
          "ceeldheer",
          "rabo de peixe",
          "kuqa",
          "kushk",
          "itambacuri",
          "shiyan",
          "amos",
          "nova sintra",
          "taoudenni",
          "ratnagiri",
          "chanal",
          "zemio",
          "suntar",
          "beau vallon",
          "westport",
          "kununurra",
          "as sulayyil",
          "teguise",
          "sogndal",
          "macau",
          "kirakira",
          "kidal",
          "ancud",
          "libreville",
          "kimbe",
          "bourbonnais",
          "mount gambier",
          "fort st. john",
          "bubaque",
          "boa vista",
          "chapaev",
          "zhanaozen",
          "birao",
          "camacupa",
          "loa janan",
          "crucecita",
          "macapa",
          "phan rang-thap cham",
          "turtas",
          "lautoka",
          "charters towers",
          "tahoua",
          "port saint john's",
          "arno",
          "fort bragg",
          "nadi",
          "iskateley",
          "preobrazheniye",
          "hailar",
          "sinabang",
          "hovd",
          "saint-joseph",
          "hailey",
          "itaituba",
          "quepos",
          "talcahuano",
          "tolanaro",
          "egilsstadir",
          "macas",
          "fonte boa",
          "antonio enes",
          "pak phanang",
          "jiayuguan",
          "henderson",
          "novaya igirma",
          "karasburg",
          "arvayheer",
          "goiatuba",
          "samarinda",
          "birobidzhan",
          "tshikapa",
          "talipparamba",
          "al jawf",
          "puerto armuelles",
          "ziro",
          "lukuledi",
          "leksand",
          "sechura",
          "shindand",
          "sihanoukville",
          "jayapura",
          "aykhal",
          "mersa matruh",
          "mpika",
          "machico",
          "labuan",
          "mantua",
          "richards bay",
          "ulaangom",
          "sari",
          "quellon",
          "pullman",
          "princeville",
          "khandyga",
          "goleta",
          "port shepstone",
          "yayva",
          "gobabis",
          "thompson",
          "ouro preto do oeste",
          "ciudad melchor muzquiz",
          "evanston",
          "masterton",
          "ust'-ordynskiy",
          "fort mcmurray",
          "cannonvale",
          "zastron",
          "menongue",
          "acapulco de juarez",
          "az zuwaytinah",
          "cabugao",
          "ayr",
          "salmon arm",
          "berezovyy",
          "la passe",
          "ta`u",
          "villa emilio carranza",
          "obigarm",
          "proletariy",
          "vorgashor",
          "hauterive",
          "cambria",
          "al bardiyah",
          "biltine",
          "bogandinskiy",
          "sebastopol",
          "kill devil hills",
          "viedma",
          "dolzhanskaya",
          "shubarshi",
          "kavaratti",
          "pauini",
          "douz",
          "peace river",
          "lodja",
          "tinde",
          "punta del este",
          "ciudad lazaro cardenas",
          "reggane",
          "port lincoln",
          "mount isa",
          "chibougamau",
          "ghimes-faget",
          "okahao",
          "yuza",
          "horta",
          "bridgewater",
          "saint-philippe",
          "yigo village",
          "mek'ele",
          "porbandar",
          "alpine",
          "yanykurgan",
          "victorica",
          "sabang",
          "vilyuchinsk",
          "plouzane",
          "kingscliff",
          "najran",
          "jingmen",
          "lata",
          "yopal",
          "melfi",
          "tari",
          "nguigmi",
          "spearfish",
          "intendente alvear",
          "shiqian",
          "vila velha",
          "gumdag",
          "nadym",
          "conduaga",
          "silver city",
          "santyoku",
          "nuku'alofa",
          "fredericton",
          "berdigestyakh",
          "namibe",
          "mansoa",
          "kuta",
          "labytnangi",
          "malpica",
          "tinogasta",
          "kerikeri",
          "bairnsdale",
          "nova vicosa",
          "nantucket",
          "lebork",
          "callao",
          "sola",
          "afaahiti",
          "lupane",
          "olinda",
          "kutum",
          "voi",
          "sao joaquim do monte",
          "xai-xai",
          "suva",
          "happy valley-goose bay",
          "ginir",
          "novyy urgal",
          "darwin",
          "hami",
          "yichun",
          "houghton",
          "al jahra'",
          "boyolali",
          "dame-marie",
          "kyren",
          "seen (kreis 3)",
          "vikulovo",
          "leeton",
          "belyy yar",
          "karymskoye",
          "northam",
          "aasiaat",
          "nikolayevsk-on-amure",
          "surab",
          "arkhangel'sk",
          "nar'yan-mar",
          "belmonte",
          "bowen",
          "kuchinarai",
          "grand-bassam",
          "varto",
          "moissala",
          "ar rahad",
          "richmond",
          "gadzhiyevo",
          "torbat-e heydariyeh",
          "hanchuan",
          "el obeid",
          "eyl",
          "sakit",
          "bela",
          "lichinga",
          "tsiombe",
          "kavieng",
          "palikir - national government center",
          "santiago del torno",
          "williams lake",
          "galliano",
          "dursunlu",
          "alesund",
          "canon city",
          "saint-paul",
          "xilin hot",
          "krasnyy chikoy",
          "ati",
          "pokaran",
          "buala",
          "ulety",
          "ubari",
          "laguna",
          "el calafate",
          "luwingu",
          "keelung",
          "bamboo flat",
          "tolbazy",
          "farafangana",
          "nuuk",
          "safford",
          "el bayadh",
          "port douglas",
          "trapani",
          "san patricio",
          "cumnock",
          "kolonia town",
          "rudnichnyy",
          "redencao",
          "saint-francois",
          "tame",
          "orsa",
          "cascais",
          "cockburn town",
          "pisco",
          "ixtapa",
          "karatau",
          "sheboygan",
          "usinsk",
          "newcastle",
          "champerico",
          "pacocha",
          "uturoa",
          "pangody",
          "bom jesus",
          "plettenberg bay",
          "longjing",
          "novyy urengoy",
          "ruelle-sur-touvre",
          "qamdo",
          "hotan",
          "kamogawa",
          "labrador city",
          "muroto-misakicho",
          "kirensk",
          "dauphin",
          "chambas",
          "tamanrasset",
          "namanyere",
          "puerto aysen",
          "broken hill",
          "ocozocoautla de espinosa",
          "mugia",
          "lisala",
          "svetlograd",
          "aripuana",
          "al jadid",
          "severnoye",
          "kailua-kona",
          "celestun",
          "constitucion",
          "bardai",
          "luanda",
          "panjab",
          "manacapuru",
          "contamana",
          "kattivakkam",
          "coracao de maria",
          "luza",
          "vorkuta",
          "siracusa",
          "pangoa",
          "inarajan village",
          "ivdel'",
          "kondagaon",
          "crane",
          "cooper's town",
          "bantay",
          "bandar-e lengeh",
          "lehigh acres",
          "hammerfest",
          "morant bay",
          "nueve de julio",
          "mahikeng",
          "deqen",
          "island harbour",
          "manokwari",
          "khvoynaya",
          "thunder bay",
          "conceicao da barra",
          "sierra grande",
          "labasa"
         ],
         "lat": [
          55.1333,
          -49.35,
          22.7187,
          38.5167,
          67.28,
          -33.0117,
          -33.6971,
          20.9219,
          39.1834,
          46.1668,
          -25.066,
          6.1978,
          -42.4667,
          62.456,
          -24.8667,
          11.2278,
          69.4865,
          43.1501,
          31.5,
          -54.2811,
          37.7167,
          61.3614,
          19.5933,
          20.9,
          54.7804,
          51.3813,
          -43.9535,
          22.4333,
          44.1833,
          51.7469,
          -8.5421,
          -32.1667,
          19.6228,
          -33.95,
          -33.0153,
          9.1769,
          -34.5322,
          5.4112,
          41.3712,
          -53.15,
          -34.6177,
          -9.3852,
          62.7833,
          4.9167,
          -26.6481,
          65.9667,
          -19.6833,
          63.7506,
          26.5053,
          10.0167,
          44.8824,
          60.3725,
          12.65,
          -0.7393,
          34.8825,
          22.0669,
          -33.918,
          -42.7826,
          64.8,
          -23.7,
          -21.2078,
          -22.092,
          -51.7236,
          -5.6667,
          1.358,
          66.0755,
          38.9342,
          25.5198,
          -34.4187,
          -3.8004,
          35.7333,
          78.2186,
          -43.0167,
          -21.3393,
          32.1722,
          -46.5619,
          17.2706,
          -37.0676,
          29.1081,
          -33.3042,
          67.6647,
          -33.5906,
          43.3236,
          44.9444,
          71.6872,
          66.4167,
          -54.8,
          42.6001,
          -17.5065,
          -1.4014,
          -34.0033,
          -10.4056,
          47.5649,
          52.2667,
          26.8418,
          54.868,
          21.5453,
          21.6477,
          42.097,
          -14.3,
          67.4667,
          13.4833,
          -6.1219,
          18.4167,
          -42.6128,
          -0.6,
          -9.0763,
          45.3728,
          21.9789,
          -18.0667,
          -34.1831,
          -37.6167,
          -5.1989,
          35.4791,
          59.3997,
          64.5667,
          60.7167,
          66.0217,
          37.6333,
          -46.4,
          70.9221,
          26.2958,
          18.8003,
          11.3474,
          63.9331,
          25.4514,
          64.8569,
          -16.0999,
          49.4169,
          -0.3582,
          57.79,
          5.768,
          46.1969,
          46.6806,
          -41,
          69.1989,
          -32.035,
          15.1355,
          16.2079,
          -23.5333,
          44.2911,
          56.4912,
          24.2977,
          55.3422,
          61.6195,
          27.9769,
          -0.9,
          -18.65,
          17.997,
          -0.1833,
          57.0531,
          57.8904,
          -10.7073,
          -33.9258,
          62.59,
          5.6333,
          25.2088,
          -2.5908,
          44.5086,
          58.1831,
          30.904,
          -2.4189,
          17.1006,
          -8.7676,
          22.8909,
          4.8833,
          69.2167,
          3.7833,
          4.8699,
          -38.2667,
          -0.8725,
          34.6391,
          -0.5472,
          15.0286,
          1.3673,
          15.7833,
          24.8,
          -37.2639,
          -45.8742,
          29.9576,
          40.5982,
          38.7333,
          60.7161,
          -21.0595,
          -32.176,
          53.9667,
          18.4167,
          -27.7951,
          -12.1568,
          -10.0681,
          47.5166,
          -19.0595,
          53.0452,
          64.75,
          68.0546,
          54.3,
          50.9333,
          23.6848,
          28.7781,
          59.5833,
          43.4334,
          62.6716,
          -9.2895,
          -26.3833,
          64.0049,
          -19.2333,
          33.0381,
          53.88,
          -2.0226,
          44.8081,
          3.8488,
          37.8,
          41.7278,
          33.2957,
          -18.0311,
          32.6475,
          48.5669,
          14.8667,
          22.6783,
          16.9833,
          16.7167,
          5.0314,
          62.1444,
          -20.4189,
          41.1415,
          -15.7667,
          20.4607,
          29.0605,
          61.2283,
          22.2006,
          -10.4544,
          18.4411,
          -41.8697,
          0.3925,
          -5.5502,
          41.1417,
          -37.8333,
          56.2499,
          11.2833,
          2.8197,
          50.2,
          43.3,
          10.2849,
          -12.0167,
          -0.583,
          -28.95,
          0.0389,
          11.5667,
          58.9417,
          -17.6167,
          -20.1,
          14.8888,
          -31.6229,
          60.1167,
          35.139,
          -17.8,
          67.6803,
          42.9019,
          49.2,
          2.4803,
          48.0056,
          -21.3667,
          43.5196,
          -4.2761,
          9.4236,
          -36.7167,
          -25.0319,
          65.2653,
          -2.3167,
          -2.4959,
          -16.2325,
          8.3511,
          39.8167,
          36.0397,
          57.1334,
          -28.0167,
          46.2639,
          -18.0125,
          -0.5,
          48.8,
          -6.4167,
          12.05,
          29.5,
          8.2833,
          27.6333,
          -10.5667,
          60.7339,
          -5.5569,
          33.3029,
          10.6093,
          -2.5333,
          66,
          31.3525,
          -11.8343,
          32.7,
          5.2767,
          45.1667,
          -28.783,
          49.9811,
          36.5633,
          -43.1167,
          46.7313,
          45.7668,
          62.6667,
          36.8181,
          -30.7414,
          59.3303,
          -22.45,
          55.7435,
          -10.7481,
          27.8833,
          42.0411,
          -40.9597,
          52.805,
          56.7268,
          -20.2833,
          -30.3023,
          -14.6585,
          16.8634,
          30.9522,
          17.7931,
          55.4627,
          50.6998,
          51.6667,
          45.5549,
          -14.2336,
          19.9667,
          38.7173,
          58.4342,
          67.5833,
          46.0901,
          35.5641,
          31.7561,
          14.5333,
          56.8937,
          44.6,
          36.0307,
          -40.8135,
          46.6311,
          48.5872,
          10.5669,
          -7.7136,
          33.4663,
          56.2501,
          -3.4833,
          -3.8833,
          -34.9667,
          17.9583,
          26.7158,
          -34.7333,
          -20.7333,
          49.9168,
          46.5833,
          -17.885,
          39,
          38.5333,
          44.3835,
          -21.3585,
          13.5361,
          13.4967,
          21.6422,
          32.835,
          43.915,
          -36.2151,
          5.8933,
          52.9306,
          48.3833,
          -28.2667,
          17.4924,
          31.0336,
          40.1629,
          5.3378,
          40.9965,
          12.4086,
          14.2495,
          44.4908,
          -35.2338,
          27.5225,
          -20.3297,
          39.2061,
          65.5333,
          8.862,
          32.7701,
          37.4406,
          -21.1333,
          45.9454,
          62.0989,
          -15.1961,
          12.0733,
          -8.7233,
          66.6572,
          43.3228,
          -28.0632,
          -35.2268,
          -37.8333,
          -17.8919,
          41.2835,
          54.5392,
          -12.0667,
          -13.8833,
          -17.75,
          -18.9315,
          -8.0089,
          14.2,
          -3.3945,
          -8.4325,
          -25.0519,
          -18.1416,
          53.3168,
          7.1333,
          51.0736,
          -12.4611,
          42.8,
          47.7,
          47.1219,
          29.3375,
          -7.5331,
          18.5667,
          51.6828,
          47.4765,
          56.8167,
          -34.5667,
          53.6039,
          51.6167,
          51.0333,
          68.7098,
          53.1406,
          28.4914,
          64.5401,
          67.6713,
          -15.8631,
          -20.0167,
          16.541,
          5.2118,
          39.1732,
          8.3404,
          12.7167,
          37.5538,
          69.2551,
          35.274,
          30.65,
          13.1842,
          7.9803,
          27.45,
          25.9333,
          -13.3128,
          -25.3,
          -2.5744,
          6.9248,
          -17.9833,
          52.1415,
          29.4422,
          36.1628,
          62.4723,
          38.441,
          -21.0096,
          43.9667,
          50.3643,
          13.2154,
          26.9167,
          -8.145,
          51.3572,
          26.5921,
          38.421,
          -50.3408,
          -10.2621,
          25.1283,
          11.7,
          54.0241,
          -22.8167,
          64.1835,
          32.834,
          33.6832,
          -16.4833,
          37.8333,
          28.017,
          55.4544,
          6.964,
          59.617,
          -4.2258,
          46.4154,
          6.461,
          54.5153,
          38.6979,
          21.4612,
          -13.7,
          20.7,
          43.1667,
          43.7333,
          65.9939,
          -32.9272,
          14.3,
          -17.5833,
          -16.7333,
          65.85,
          -9.0744,
          -34.0527,
          42.7714,
          66.0833,
          45.6833,
          31.1667,
          37.0997,
          35.1,
          52.9463,
          33.2833,
          57.7853,
          51.1494,
          22.1928,
          22.785,
          -7.5167,
          -45.4,
          -31.95,
          16.7667,
          43.1041,
          2.15,
          45.3353,
          -9.1667,
          27.05,
          56.3491,
          19.6406,
          20.8667,
          -35.3333,
          11.65,
          -8.8368,
          34.388,
          -3.2997,
          -7.3333,
          13.2167,
          -12.2333,
          60.6308,
          67.5,
          37.0881,
          -12.1167,
          13.2736,
          60.6911,
          19.6,
          31.3974,
          26.8667,
          17.5847,
          26.5579,
          26.6254,
          70.6634,
          17.8815,
          -35.4444,
          -25.8652,
          29.9618,
          50.724,
          -0.8667,
          58.9,
          48.4001,
          -18.5933,
          -41.606,
          -16.4167
         ],
         "legendgroup": "",
         "lon": [
          -7.45,
          70.2167,
          -12.4521,
          -28.7,
          14.405,
          17.9442,
          -53.4616,
          -156.3051,
          -84.5333,
          -73.4324,
          -130.1015,
          102.171,
          171.2,
          -114.3525,
          113.6333,
          169.8474,
          88.3972,
          -77.6831,
          92,
          -36.5092,
          -25.4333,
          63.5842,
          -154.9731,
          70.3667,
          -127.1743,
          1.3862,
          -176.5597,
          41.7583,
          28.65,
          -8.7425,
          -172.5159,
          152.5167,
          -155.9522,
          115.0667,
          27.9116,
          105.15,
          20.0403,
          100.3354,
          -73.414,
          -70.9167,
          -68.3301,
          -171.2468,
          148.1667,
          -52.2667,
          15.1594,
          78.3667,
          63.4167,
          -68.5145,
          45.3444,
          105.0833,
          110.1163,
          93.0408,
          54.0333,
          -90.3518,
          128.6267,
          -159.378,
          25.5701,
          147.0587,
          -147.5333,
          133.8833,
          -159.775,
          -70.1979,
          -72.4875,
          132.75,
          172.9211,
          -23.124,
          100.4517,
          90.2201,
          19.2345,
          102.2655,
          140.8333,
          15.6401,
          147.3167,
          55.4781,
          13.0203,
          169.4708,
          -100.8939,
          -12.3116,
          21.2869,
          26.5328,
          24.8936,
          26.891,
          145.575,
          -93.0933,
          128.8694,
          112.4,
          -68.3,
          -73.9662,
          -149.489,
          5.6325,
          24.7314,
          -36.4344,
          -52.7093,
          79.1667,
          88.0763,
          -1.6985,
          -77.2644,
          -157.9253,
          -79.2353,
          -178.1667,
          78.7,
          -88.1833,
          141.2906,
          84.05,
          -73.8092,
          73.0833,
          143.2092,
          44.2206,
          -159.3672,
          44.0167,
          22.146,
          -73.65,
          -35.4608,
          72.2439,
          27.7547,
          143.2,
          -46.0333,
          12.6316,
          22.7333,
          168.35,
          -8.7187,
          68.6292,
          110.3967,
          162.3373,
          -20.9971,
          30.5464,
          -147.8028,
          167.4164,
          -82.4331,
          42.5454,
          -152.4072,
          20.6757,
          -59.957,
          113.2792,
          145.7167,
          33.4478,
          -52.0986,
          145.701,
          52.176,
          148.1667,
          -105.5022,
          8.5838,
          116.1072,
          -131.6461,
          72.1555,
          -114.0611,
          -89.6,
          -173.9833,
          -76.7936,
          -50.05,
          -135.33,
          54.7202,
          22.2247,
          18.4232,
          50.8594,
          38.2333,
          64.6357,
          -51.9542,
          50.263,
          94.7592,
          118.4887,
          -48.1522,
          100.8374,
          160.7034,
          -109.9124,
          38.0833,
          -51.1,
          72.9667,
          -2.2405,
          141.9667,
          14.8206,
          -120.4579,
          166.916,
          120.6898,
          173.1241,
          -87.45,
          125.2833,
          -56.973,
          170.5036,
          122.298,
          -124.1573,
          -27.0667,
          -135.0538,
          164.8658,
          -60.2008,
          121.9667,
          -64.6167,
          -64.2615,
          96.8225,
          -78.1522,
          -52.7813,
          -169.9187,
          158.6483,
          177.4833,
          166.4372,
          110.3,
          6.95,
          -15.958,
          -17.7646,
          151.2833,
          -4.0434,
          30.9328,
          -76.0088,
          153.15,
          -22.5624,
          17.7167,
          40.2848,
          67.4158,
          147.2712,
          76.2772,
          47.1806,
          -25.5833,
          82.9364,
          61.9522,
          -41.685,
          110.7781,
          -78.1162,
          -24.7167,
          -3.9836,
          73.3,
          -92.4,
          25.1361,
          117.6319,
          57.6953,
          -73.3579,
          128.7333,
          45.5779,
          -13.564,
          7.1003,
          113.5461,
          161.9205,
          1.4078,
          -73.8203,
          9.4537,
          150.1429,
          -87.875,
          140.7667,
          -120.8529,
          -15.8333,
          -60.6733,
          51.1667,
          52.8,
          22.7882,
          17.4833,
          117.095,
          -58.9833,
          -51.0664,
          108.9833,
          69.1325,
          177.4667,
          146.2667,
          5.2692,
          29.5448,
          18.6333,
          -79.006,
          177.4167,
          53.1512,
          133.9064,
          119.7,
          96.3801,
          91.6419,
          55.6167,
          -114.3153,
          -55.9836,
          -84.1652,
          -73.1167,
          46.9987,
          -14.3948,
          -78.1167,
          -66.2662,
          39.9086,
          100.202,
          98.3,
          -114.9819,
          103.9112,
          18.75,
          102.775,
          -49.3547,
          117.15,
          132.95,
          20.8,
          75.35,
          38.75,
          -82.8667,
          93.8333,
          38.8,
          15.0032,
          -80.8222,
          62.1474,
          103.5296,
          140.7,
          111.5,
          27.2453,
          31.4529,
          -16.7667,
          115.2417,
          10.7833,
          32.0377,
          92.0667,
          53.0601,
          -73.6167,
          -117.1796,
          -61.2985,
          135.6,
          10.305,
          30.455,
          57.2641,
          18.9667,
          -97.8558,
          -62.2158,
          -101.5167,
          -87.6901,
          175.6575,
          104.7508,
          -111.381,
          148.7,
          27.084,
          17.691,
          -99.8901,
          20.1202,
          120.4578,
          -4.6339,
          -119.3024,
          135.7,
          -0.8967,
          -169.5144,
          -96.6,
          69.7088,
          31.7046,
          63.95,
          3.4459,
          -121.0808,
          25.0865,
          20.9167,
          65.8938,
          33.5333,
          -75.676,
          -62.9967,
          37.8039,
          57.1869,
          72.642,
          -66.9764,
          9.0203,
          -117.286,
          23.4333,
          33.2,
          -54.95,
          -102.2,
          0.1714,
          135.8667,
          139.5,
          -74.3659,
          26.0667,
          15.0667,
          139.9167,
          -28.6333,
          -64.5155,
          55.7679,
          144.8886,
          39.4753,
          69.6093,
          -116.7664,
          67.2481,
          -65.4359,
          95.3214,
          158.4028,
          -4.6167,
          153.5667,
          44.1277,
          112.2047,
          -8.3327,
          -72.3959,
          15.6514,
          4.4914,
          13.1092,
          -103.8594,
          -63.592,
          108.2281,
          -40.2925,
          54.5906,
          72.5167,
          117.4893,
          -108.2803,
          129.1708,
          -175.2,
          -66.6656,
          126.6992,
          12.1522,
          -15.3189,
          115.1723,
          66.4183,
          -8.8105,
          -67.5649,
          173.9474,
          147.6167,
          -39.3719,
          -70.0995,
          17.7501,
          -77.15,
          167.55,
          -149.2833,
          27.807,
          -34.8553,
          24.6667,
          38.563,
          -35.8044,
          33.6442,
          178.4415,
          -60.3315,
          40.7,
          132.5642,
          130.8418,
          93.45,
          128.9,
          -88.569,
          47.6581,
          110.5958,
          -74.4167,
          102.1408,
          8.77,
          70.6107,
          146.4,
          91.3903,
          114.35,
          -4.2167,
          -52.8699,
          140.73,
          66.2585,
          40.5433,
          53.087,
          -38.8828,
          148.2333,
          104.05,
          -3.7388,
          41.4559,
          17.7663,
          30.65,
          -77.4603,
          33.3362,
          59.2195,
          113.7667,
          30.2167,
          49.8164,
          78.8167,
          81.9833,
          35.2406,
          45.4833,
          150.7967,
          158.1611,
          -63.3833,
          -122.1445,
          -90.2992,
          36.1597,
          6.1549,
          -105.2424,
          55.2707,
          116.0333,
          108.7512,
          18.3353,
          71.9167,
          159.5921,
          112.4849,
          12.7805,
          -121.4238,
          -72.2768,
          29.9271,
          121.7419,
          92.7167,
          55.8825,
          47.8333,
          -51.7216,
          -109.7076,
          1.0193,
          145.4667,
          12.6667,
          -97.5169,
          -4.2664,
          158.206,
          52.4703,
          -38.7306,
          3.9054,
          -71.73,
          30.4053,
          -9.4215,
          -71.1419,
          -76.2167,
          -105.2,
          70.4667,
          -87.9334,
          57.5281,
          151.7765,
          -91.9167,
          -71.3333,
          -151.4333,
          74.4859,
          -44.3586,
          23.3716,
          129.4233,
          76.6333,
          0.2333,
          97.2333,
          79.9269,
          140.1,
          -66.9114,
          134.15,
          108.1119,
          -100.0502,
          -78.9136,
          5.5228,
          31.05,
          -72.7,
          141.4333,
          -93.3667,
          -9.2179,
          21.5167,
          42.8547,
          -60.6333,
          14.4,
          78.3619,
          -155.9956,
          -90.4,
          -72.4167,
          7.2333,
          13.2343,
          67.0233,
          -60.6206,
          -75.0167,
          80.3167,
          -38.75,
          47.2512,
          64,
          15.2792,
          -73,
          144.7484,
          60.4206,
          81.6667,
          -102.3501,
          -77.5167,
          120.3892,
          54.8807,
          -81.6248,
          23.6821,
          -76.4093,
          -60.8831,
          25.6442,
          90.7188,
          -1.2758,
          134.0833,
          34.5333,
          -89.3168,
          -39.7322,
          -65.3557,
          179.3833
         ],
         "marker": {
          "color": [
           72,
           92,
           10,
           94,
           86,
           94,
           75,
           60,
           63,
           82,
           84,
           94,
           67,
           75,
           39,
           80,
           85,
           79,
           19,
           62,
           99,
           97,
           73,
           67,
           74,
           89,
           95,
           26,
           61,
           89,
           80,
           94,
           77,
           48,
           89,
           89,
           63,
           89,
           62,
           62,
           26,
           80,
           99,
           100,
           82,
           100,
           69,
           59,
           38,
           87,
           99,
           89,
           73,
           83,
           71,
           70,
           92,
           42,
           76,
           61,
           79,
           75,
           73,
           76,
           78,
           89,
           83,
           97,
           83,
           86,
           51,
           62,
           49,
           60,
           41,
           51,
           68,
           64,
           61,
           90,
           77,
           94,
           66,
           68,
           99,
           74,
           36,
           73,
           79,
           74,
           85,
           83,
           94,
           81,
           70,
           76,
           57,
           68,
           69,
           81,
           99,
           33,
           99,
           87,
           95,
           74,
           76,
           98,
           69,
           81,
           83,
           91,
           78,
           65,
           94,
           92,
           63,
           85,
           48,
           72,
           89,
           44,
           88,
           81,
           90,
           56,
           76,
           71,
           100,
           87,
           56,
           28,
           91,
           95,
           42,
           94,
           77,
           61,
           67,
           60,
           46,
           80,
           91,
           75,
           97,
           71,
           82,
           79,
           51,
           92,
           81,
           96,
           98,
           84,
           100,
           48,
           60,
           72,
           72,
           99,
           96,
           97,
           29,
           86,
           61,
           42,
           48,
           76,
           85,
           68,
           63,
           65,
           74,
           72,
           74,
           78,
           88,
           89,
           61,
           74,
           88,
           88,
           85,
           80,
           27,
           95,
           83,
           37,
           78,
           76,
           95,
           66,
           67,
           76,
           100,
           92,
           76,
           46,
           37,
           83,
           100,
           100,
           91,
           79,
           74,
           77,
           60,
           80,
           84,
           79,
           89,
           99,
           71,
           34,
           98,
           83,
           93,
           71,
           14,
           60,
           68,
           28,
           99,
           88,
           66,
           84,
           56,
           59,
           79,
           94,
           73,
           21,
           90,
           94,
           81,
           93,
           58,
           79,
           76,
           55,
           84,
           61,
           16,
           98,
           92,
           55,
           79,
           83,
           91,
           70,
           51,
           15,
           91,
           77,
           44,
           70,
           98,
           55,
           99,
           80,
           96,
           81,
           83,
           98,
           78,
           78,
           94,
           93,
           69,
           95,
           92,
           85,
           87,
           67,
           99,
           35,
           80,
           93,
           92,
           93,
           96,
           68,
           57,
           65,
           98,
           99,
           98,
           61,
           35,
           100,
           94,
           100,
           93,
           98,
           65,
           88,
           65,
           90,
           96,
           93,
           91,
           78,
           90,
           99,
           93,
           88,
           93,
           44,
           71,
           79,
           33,
           76,
           20,
           98,
           72,
           70,
           21,
           97,
           70,
           71,
           66,
           86,
           87,
           79,
           95,
           83,
           71,
           79,
           100,
           100,
           80,
           78,
           66,
           21,
           90,
           56,
           75,
           63,
           91,
           92,
           76,
           92,
           45,
           68,
           90,
           89,
           83,
           67,
           23,
           65,
           51,
           68,
           83,
           65,
           90,
           94,
           82,
           84,
           71,
           83,
           82,
           90,
           59,
           26,
           78,
           82,
           94,
           83,
           46,
           83,
           92,
           79,
           82,
           17,
           24,
           62,
           28,
           96,
           92,
           57,
           100,
           75,
           48,
           80,
           70,
           82,
           99,
           79,
           73,
           94,
           100,
           73,
           33,
           70,
           57,
           84,
           86,
           88,
           69,
           76,
           88,
           65,
           74,
           26,
           87,
           90,
           81,
           70,
           78,
           45,
           98,
           76,
           54,
           97,
           79,
           45,
           91,
           75,
           73,
           81,
           83,
           49,
           92,
           99,
           97,
           84,
           92,
           62,
           75,
           98,
           85,
           65,
           47,
           85,
           96,
           18,
           19,
           46,
           96,
           58,
           95,
           19,
           81,
           43,
           56,
           88,
           92,
           81,
           83,
           85,
           69,
           62,
           89,
           84,
           23,
           77,
           94,
           99,
           21,
           27,
           70,
           98,
           46,
           68,
           53,
           97,
           95,
           94,
           85,
           93,
           62,
           29,
           50,
           77,
           87,
           56,
           81,
           83,
           97,
           90,
           83,
           87,
           95,
           97,
           65,
           65,
           79,
           58,
           91,
           100,
           94,
           66,
           87,
           89,
           100,
           64,
           84,
           74,
           100,
           84,
           53,
           75,
           67,
           68,
           61,
           97,
           93,
           58,
           23,
           94,
           98,
           31,
           77,
           92,
           41,
           98,
           82,
           46,
           93,
           76,
           61,
           92,
           21,
           89,
           88,
           72,
           73,
           82,
           85,
           99,
           100,
           53,
           92,
           80,
           96,
           68,
           40,
           89,
           92,
           35,
           63,
           86,
           72,
           31,
           32,
           21,
           93,
           82,
           100,
           93,
           86,
           20,
           82
          ],
          "coloraxis": "coloraxis",
          "size": [
           72,
           92,
           10,
           94,
           86,
           94,
           75,
           60,
           63,
           82,
           84,
           94,
           67,
           75,
           39,
           80,
           85,
           79,
           19,
           62,
           99,
           97,
           73,
           67,
           74,
           89,
           95,
           26,
           61,
           89,
           80,
           94,
           77,
           48,
           89,
           89,
           63,
           89,
           62,
           62,
           26,
           80,
           99,
           100,
           82,
           100,
           69,
           59,
           38,
           87,
           99,
           89,
           73,
           83,
           71,
           70,
           92,
           42,
           76,
           61,
           79,
           75,
           73,
           76,
           78,
           89,
           83,
           97,
           83,
           86,
           51,
           62,
           49,
           60,
           41,
           51,
           68,
           64,
           61,
           90,
           77,
           94,
           66,
           68,
           99,
           74,
           36,
           73,
           79,
           74,
           85,
           83,
           94,
           81,
           70,
           76,
           57,
           68,
           69,
           81,
           99,
           33,
           99,
           87,
           95,
           74,
           76,
           98,
           69,
           81,
           83,
           91,
           78,
           65,
           94,
           92,
           63,
           85,
           48,
           72,
           89,
           44,
           88,
           81,
           90,
           56,
           76,
           71,
           100,
           87,
           56,
           28,
           91,
           95,
           42,
           94,
           77,
           61,
           67,
           60,
           46,
           80,
           91,
           75,
           97,
           71,
           82,
           79,
           51,
           92,
           81,
           96,
           98,
           84,
           100,
           48,
           60,
           72,
           72,
           99,
           96,
           97,
           29,
           86,
           61,
           42,
           48,
           76,
           85,
           68,
           63,
           65,
           74,
           72,
           74,
           78,
           88,
           89,
           61,
           74,
           88,
           88,
           85,
           80,
           27,
           95,
           83,
           37,
           78,
           76,
           95,
           66,
           67,
           76,
           100,
           92,
           76,
           46,
           37,
           83,
           100,
           100,
           91,
           79,
           74,
           77,
           60,
           80,
           84,
           79,
           89,
           99,
           71,
           34,
           98,
           83,
           93,
           71,
           14,
           60,
           68,
           28,
           99,
           88,
           66,
           84,
           56,
           59,
           79,
           94,
           73,
           21,
           90,
           94,
           81,
           93,
           58,
           79,
           76,
           55,
           84,
           61,
           16,
           98,
           92,
           55,
           79,
           83,
           91,
           70,
           51,
           15,
           91,
           77,
           44,
           70,
           98,
           55,
           99,
           80,
           96,
           81,
           83,
           98,
           78,
           78,
           94,
           93,
           69,
           95,
           92,
           85,
           87,
           67,
           99,
           35,
           80,
           93,
           92,
           93,
           96,
           68,
           57,
           65,
           98,
           99,
           98,
           61,
           35,
           100,
           94,
           100,
           93,
           98,
           65,
           88,
           65,
           90,
           96,
           93,
           91,
           78,
           90,
           99,
           93,
           88,
           93,
           44,
           71,
           79,
           33,
           76,
           20,
           98,
           72,
           70,
           21,
           97,
           70,
           71,
           66,
           86,
           87,
           79,
           95,
           83,
           71,
           79,
           100,
           100,
           80,
           78,
           66,
           21,
           90,
           56,
           75,
           63,
           91,
           92,
           76,
           92,
           45,
           68,
           90,
           89,
           83,
           67,
           23,
           65,
           51,
           68,
           83,
           65,
           90,
           94,
           82,
           84,
           71,
           83,
           82,
           90,
           59,
           26,
           78,
           82,
           94,
           83,
           46,
           83,
           92,
           79,
           82,
           17,
           24,
           62,
           28,
           96,
           92,
           57,
           100,
           75,
           48,
           80,
           70,
           82,
           99,
           79,
           73,
           94,
           100,
           73,
           33,
           70,
           57,
           84,
           86,
           88,
           69,
           76,
           88,
           65,
           74,
           26,
           87,
           90,
           81,
           70,
           78,
           45,
           98,
           76,
           54,
           97,
           79,
           45,
           91,
           75,
           73,
           81,
           83,
           49,
           92,
           99,
           97,
           84,
           92,
           62,
           75,
           98,
           85,
           65,
           47,
           85,
           96,
           18,
           19,
           46,
           96,
           58,
           95,
           19,
           81,
           43,
           56,
           88,
           92,
           81,
           83,
           85,
           69,
           62,
           89,
           84,
           23,
           77,
           94,
           99,
           21,
           27,
           70,
           98,
           46,
           68,
           53,
           97,
           95,
           94,
           85,
           93,
           62,
           29,
           50,
           77,
           87,
           56,
           81,
           83,
           97,
           90,
           83,
           87,
           95,
           97,
           65,
           65,
           79,
           58,
           91,
           100,
           94,
           66,
           87,
           89,
           100,
           64,
           84,
           74,
           100,
           84,
           53,
           75,
           67,
           68,
           61,
           97,
           93,
           58,
           23,
           94,
           98,
           31,
           77,
           92,
           41,
           98,
           82,
           46,
           93,
           76,
           61,
           92,
           21,
           89,
           88,
           72,
           73,
           82,
           85,
           99,
           100,
           53,
           92,
           80,
           96,
           68,
           40,
           89,
           92,
           35,
           63,
           86,
           72,
           31,
           32,
           21,
           93,
           82,
           100,
           93,
           86,
           20,
           82
          ],
          "sizemode": "area",
          "sizeref": 0.25,
          "symbol": "circle"
         },
         "mode": "markers",
         "name": "",
         "showlegend": false,
         "type": "scattergeo"
        }
       ],
       "layout": {
        "coloraxis": {
         "colorbar": {
          "title": {
           "text": "Humidity"
          }
         },
         "colorscale": [
          [
           0,
           "#0d0887"
          ],
          [
           0.1111111111111111,
           "#46039f"
          ],
          [
           0.2222222222222222,
           "#7201a8"
          ],
          [
           0.3333333333333333,
           "#9c179e"
          ],
          [
           0.4444444444444444,
           "#bd3786"
          ],
          [
           0.5555555555555556,
           "#d8576b"
          ],
          [
           0.6666666666666666,
           "#ed7953"
          ],
          [
           0.7777777777777778,
           "#fb9f3a"
          ],
          [
           0.8888888888888888,
           "#fdca26"
          ],
          [
           1,
           "#f0f921"
          ]
         ]
        },
        "geo": {
         "center": {},
         "domain": {
          "x": [
           0,
           1
          ],
          "y": [
           0,
           1
          ]
         },
         "projection": {
          "type": "natural earth"
         }
        },
        "legend": {
         "itemsizing": "constant",
         "tracegroupgap": 0
        },
        "template": {
         "data": {
          "bar": [
           {
            "error_x": {
             "color": "#2a3f5f"
            },
            "error_y": {
             "color": "#2a3f5f"
            },
            "marker": {
             "line": {
              "color": "#E5ECF6",
              "width": 0.5
             },
             "pattern": {
              "fillmode": "overlay",
              "size": 10,
              "solidity": 0.2
             }
            },
            "type": "bar"
           }
          ],
          "barpolar": [
           {
            "marker": {
             "line": {
              "color": "#E5ECF6",
              "width": 0.5
             },
             "pattern": {
              "fillmode": "overlay",
              "size": 10,
              "solidity": 0.2
             }
            },
            "type": "barpolar"
           }
          ],
          "carpet": [
           {
            "aaxis": {
             "endlinecolor": "#2a3f5f",
             "gridcolor": "white",
             "linecolor": "white",
             "minorgridcolor": "white",
             "startlinecolor": "#2a3f5f"
            },
            "baxis": {
             "endlinecolor": "#2a3f5f",
             "gridcolor": "white",
             "linecolor": "white",
             "minorgridcolor": "white",
             "startlinecolor": "#2a3f5f"
            },
            "type": "carpet"
           }
          ],
          "choropleth": [
           {
            "colorbar": {
             "outlinewidth": 0,
             "ticks": ""
            },
            "type": "choropleth"
           }
          ],
          "contour": [
           {
            "colorbar": {
             "outlinewidth": 0,
             "ticks": ""
            },
            "colorscale": [
             [
              0,
              "#0d0887"
             ],
             [
              0.1111111111111111,
              "#46039f"
             ],
             [
              0.2222222222222222,
              "#7201a8"
             ],
             [
              0.3333333333333333,
              "#9c179e"
             ],
             [
              0.4444444444444444,
              "#bd3786"
             ],
             [
              0.5555555555555556,
              "#d8576b"
             ],
             [
              0.6666666666666666,
              "#ed7953"
             ],
             [
              0.7777777777777778,
              "#fb9f3a"
             ],
             [
              0.8888888888888888,
              "#fdca26"
             ],
             [
              1,
              "#f0f921"
             ]
            ],
            "type": "contour"
           }
          ],
          "contourcarpet": [
           {
            "colorbar": {
             "outlinewidth": 0,
             "ticks": ""
            },
            "type": "contourcarpet"
           }
          ],
          "heatmap": [
           {
            "colorbar": {
             "outlinewidth": 0,
             "ticks": ""
            },
            "colorscale": [
             [
              0,
              "#0d0887"
             ],
             [
              0.1111111111111111,
              "#46039f"
             ],
             [
              0.2222222222222222,
              "#7201a8"
             ],
             [
              0.3333333333333333,
              "#9c179e"
             ],
             [
              0.4444444444444444,
              "#bd3786"
             ],
             [
              0.5555555555555556,
              "#d8576b"
             ],
             [
              0.6666666666666666,
              "#ed7953"
             ],
             [
              0.7777777777777778,
              "#fb9f3a"
             ],
             [
              0.8888888888888888,
              "#fdca26"
             ],
             [
              1,
              "#f0f921"
             ]
            ],
            "type": "heatmap"
           }
          ],
          "heatmapgl": [
           {
            "colorbar": {
             "outlinewidth": 0,
             "ticks": ""
            },
            "colorscale": [
             [
              0,
              "#0d0887"
             ],
             [
              0.1111111111111111,
              "#46039f"
             ],
             [
              0.2222222222222222,
              "#7201a8"
             ],
             [
              0.3333333333333333,
              "#9c179e"
             ],
             [
              0.4444444444444444,
              "#bd3786"
             ],
             [
              0.5555555555555556,
              "#d8576b"
             ],
             [
              0.6666666666666666,
              "#ed7953"
             ],
             [
              0.7777777777777778,
              "#fb9f3a"
             ],
             [
              0.8888888888888888,
              "#fdca26"
             ],
             [
              1,
              "#f0f921"
             ]
            ],
            "type": "heatmapgl"
           }
          ],
          "histogram": [
           {
            "marker": {
             "pattern": {
              "fillmode": "overlay",
              "size": 10,
              "solidity": 0.2
             }
            },
            "type": "histogram"
           }
          ],
          "histogram2d": [
           {
            "colorbar": {
             "outlinewidth": 0,
             "ticks": ""
            },
            "colorscale": [
             [
              0,
              "#0d0887"
             ],
             [
              0.1111111111111111,
              "#46039f"
             ],
             [
              0.2222222222222222,
              "#7201a8"
             ],
             [
              0.3333333333333333,
              "#9c179e"
             ],
             [
              0.4444444444444444,
              "#bd3786"
             ],
             [
              0.5555555555555556,
              "#d8576b"
             ],
             [
              0.6666666666666666,
              "#ed7953"
             ],
             [
              0.7777777777777778,
              "#fb9f3a"
             ],
             [
              0.8888888888888888,
              "#fdca26"
             ],
             [
              1,
              "#f0f921"
             ]
            ],
            "type": "histogram2d"
           }
          ],
          "histogram2dcontour": [
           {
            "colorbar": {
             "outlinewidth": 0,
             "ticks": ""
            },
            "colorscale": [
             [
              0,
              "#0d0887"
             ],
             [
              0.1111111111111111,
              "#46039f"
             ],
             [
              0.2222222222222222,
              "#7201a8"
             ],
             [
              0.3333333333333333,
              "#9c179e"
             ],
             [
              0.4444444444444444,
              "#bd3786"
             ],
             [
              0.5555555555555556,
              "#d8576b"
             ],
             [
              0.6666666666666666,
              "#ed7953"
             ],
             [
              0.7777777777777778,
              "#fb9f3a"
             ],
             [
              0.8888888888888888,
              "#fdca26"
             ],
             [
              1,
              "#f0f921"
             ]
            ],
            "type": "histogram2dcontour"
           }
          ],
          "mesh3d": [
           {
            "colorbar": {
             "outlinewidth": 0,
             "ticks": ""
            },
            "type": "mesh3d"
           }
          ],
          "parcoords": [
           {
            "line": {
             "colorbar": {
              "outlinewidth": 0,
              "ticks": ""
             }
            },
            "type": "parcoords"
           }
          ],
          "pie": [
           {
            "automargin": true,
            "type": "pie"
           }
          ],
          "scatter": [
           {
            "marker": {
             "colorbar": {
              "outlinewidth": 0,
              "ticks": ""
             }
            },
            "type": "scatter"
           }
          ],
          "scatter3d": [
           {
            "line": {
             "colorbar": {
              "outlinewidth": 0,
              "ticks": ""
             }
            },
            "marker": {
             "colorbar": {
              "outlinewidth": 0,
              "ticks": ""
             }
            },
            "type": "scatter3d"
           }
          ],
          "scattercarpet": [
           {
            "marker": {
             "colorbar": {
              "outlinewidth": 0,
              "ticks": ""
             }
            },
            "type": "scattercarpet"
           }
          ],
          "scattergeo": [
           {
            "marker": {
             "colorbar": {
              "outlinewidth": 0,
              "ticks": ""
             }
            },
            "type": "scattergeo"
           }
          ],
          "scattergl": [
           {
            "marker": {
             "colorbar": {
              "outlinewidth": 0,
              "ticks": ""
             }
            },
            "type": "scattergl"
           }
          ],
          "scattermapbox": [
           {
            "marker": {
             "colorbar": {
              "outlinewidth": 0,
              "ticks": ""
             }
            },
            "type": "scattermapbox"
           }
          ],
          "scatterpolar": [
           {
            "marker": {
             "colorbar": {
              "outlinewidth": 0,
              "ticks": ""
             }
            },
            "type": "scatterpolar"
           }
          ],
          "scatterpolargl": [
           {
            "marker": {
             "colorbar": {
              "outlinewidth": 0,
              "ticks": ""
             }
            },
            "type": "scatterpolargl"
           }
          ],
          "scatterternary": [
           {
            "marker": {
             "colorbar": {
              "outlinewidth": 0,
              "ticks": ""
             }
            },
            "type": "scatterternary"
           }
          ],
          "surface": [
           {
            "colorbar": {
             "outlinewidth": 0,
             "ticks": ""
            },
            "colorscale": [
             [
              0,
              "#0d0887"
             ],
             [
              0.1111111111111111,
              "#46039f"
             ],
             [
              0.2222222222222222,
              "#7201a8"
             ],
             [
              0.3333333333333333,
              "#9c179e"
             ],
             [
              0.4444444444444444,
              "#bd3786"
             ],
             [
              0.5555555555555556,
              "#d8576b"
             ],
             [
              0.6666666666666666,
              "#ed7953"
             ],
             [
              0.7777777777777778,
              "#fb9f3a"
             ],
             [
              0.8888888888888888,
              "#fdca26"
             ],
             [
              1,
              "#f0f921"
             ]
            ],
            "type": "surface"
           }
          ],
          "table": [
           {
            "cells": {
             "fill": {
              "color": "#EBF0F8"
             },
             "line": {
              "color": "white"
             }
            },
            "header": {
             "fill": {
              "color": "#C8D4E3"
             },
             "line": {
              "color": "white"
             }
            },
            "type": "table"
           }
          ]
         },
         "layout": {
          "annotationdefaults": {
           "arrowcolor": "#2a3f5f",
           "arrowhead": 0,
           "arrowwidth": 1
          },
          "autotypenumbers": "strict",
          "coloraxis": {
           "colorbar": {
            "outlinewidth": 0,
            "ticks": ""
           }
          },
          "colorscale": {
           "diverging": [
            [
             0,
             "#8e0152"
            ],
            [
             0.1,
             "#c51b7d"
            ],
            [
             0.2,
             "#de77ae"
            ],
            [
             0.3,
             "#f1b6da"
            ],
            [
             0.4,
             "#fde0ef"
            ],
            [
             0.5,
             "#f7f7f7"
            ],
            [
             0.6,
             "#e6f5d0"
            ],
            [
             0.7,
             "#b8e186"
            ],
            [
             0.8,
             "#7fbc41"
            ],
            [
             0.9,
             "#4d9221"
            ],
            [
             1,
             "#276419"
            ]
           ],
           "sequential": [
            [
             0,
             "#0d0887"
            ],
            [
             0.1111111111111111,
             "#46039f"
            ],
            [
             0.2222222222222222,
             "#7201a8"
            ],
            [
             0.3333333333333333,
             "#9c179e"
            ],
            [
             0.4444444444444444,
             "#bd3786"
            ],
            [
             0.5555555555555556,
             "#d8576b"
            ],
            [
             0.6666666666666666,
             "#ed7953"
            ],
            [
             0.7777777777777778,
             "#fb9f3a"
            ],
            [
             0.8888888888888888,
             "#fdca26"
            ],
            [
             1,
             "#f0f921"
            ]
           ],
           "sequentialminus": [
            [
             0,
             "#0d0887"
            ],
            [
             0.1111111111111111,
             "#46039f"
            ],
            [
             0.2222222222222222,
             "#7201a8"
            ],
            [
             0.3333333333333333,
             "#9c179e"
            ],
            [
             0.4444444444444444,
             "#bd3786"
            ],
            [
             0.5555555555555556,
             "#d8576b"
            ],
            [
             0.6666666666666666,
             "#ed7953"
            ],
            [
             0.7777777777777778,
             "#fb9f3a"
            ],
            [
             0.8888888888888888,
             "#fdca26"
            ],
            [
             1,
             "#f0f921"
            ]
           ]
          },
          "colorway": [
           "#636efa",
           "#EF553B",
           "#00cc96",
           "#ab63fa",
           "#FFA15A",
           "#19d3f3",
           "#FF6692",
           "#B6E880",
           "#FF97FF",
           "#FECB52"
          ],
          "font": {
           "color": "#2a3f5f"
          },
          "geo": {
           "bgcolor": "white",
           "lakecolor": "white",
           "landcolor": "#E5ECF6",
           "showlakes": true,
           "showland": true,
           "subunitcolor": "white"
          },
          "hoverlabel": {
           "align": "left"
          },
          "hovermode": "closest",
          "mapbox": {
           "style": "light"
          },
          "paper_bgcolor": "white",
          "plot_bgcolor": "#E5ECF6",
          "polar": {
           "angularaxis": {
            "gridcolor": "white",
            "linecolor": "white",
            "ticks": ""
           },
           "bgcolor": "#E5ECF6",
           "radialaxis": {
            "gridcolor": "white",
            "linecolor": "white",
            "ticks": ""
           }
          },
          "scene": {
           "xaxis": {
            "backgroundcolor": "#E5ECF6",
            "gridcolor": "white",
            "gridwidth": 2,
            "linecolor": "white",
            "showbackground": true,
            "ticks": "",
            "zerolinecolor": "white"
           },
           "yaxis": {
            "backgroundcolor": "#E5ECF6",
            "gridcolor": "white",
            "gridwidth": 2,
            "linecolor": "white",
            "showbackground": true,
            "ticks": "",
            "zerolinecolor": "white"
           },
           "zaxis": {
            "backgroundcolor": "#E5ECF6",
            "gridcolor": "white",
            "gridwidth": 2,
            "linecolor": "white",
            "showbackground": true,
            "ticks": "",
            "zerolinecolor": "white"
           }
          },
          "shapedefaults": {
           "line": {
            "color": "#2a3f5f"
           }
          },
          "ternary": {
           "aaxis": {
            "gridcolor": "white",
            "linecolor": "white",
            "ticks": ""
           },
           "baxis": {
            "gridcolor": "white",
            "linecolor": "white",
            "ticks": ""
           },
           "bgcolor": "#E5ECF6",
           "caxis": {
            "gridcolor": "white",
            "linecolor": "white",
            "ticks": ""
           }
          },
          "title": {
           "x": 0.05
          },
          "xaxis": {
           "automargin": true,
           "gridcolor": "white",
           "linecolor": "white",
           "ticks": "",
           "title": {
            "standoff": 15
           },
           "zerolinecolor": "white",
           "zerolinewidth": 2
          },
          "yaxis": {
           "automargin": true,
           "gridcolor": "white",
           "linecolor": "white",
           "ticks": "",
           "title": {
            "standoff": 15
           },
           "zerolinecolor": "white",
           "zerolinewidth": 2
          }
         }
        },
        "title": {
         "text": "Cities Humidity Levels"
        }
       }
      }
     },
     "metadata": {},
     "output_type": "display_data"
    }
   ],
   "source": [
    "%%capture --no-display\n",
    "\n",
    "fig = px.scatter_geo(city_data_df,\n",
    "                     lat='Lat',\n",
    "                     lon='Lng',\n",
    "                     color='Humidity',  # Color of markers can be set to humidity\n",
    "                     size='Humidity',  # Size of markers can also reflect humidity\n",
    "                     hover_name='City',  # Hover text can be set to city name\n",
    "                     projection='natural earth',  # Map projection style\n",
    "                     title='Cities Humidity Levels')  # Title of the map\n",
    "\n",
    "# Show the map\n",
    "fig.show()"
   ]
  },
  {
   "cell_type": "markdown",
   "metadata": {},
   "source": [
    "### Step 2: Narrow down the `city_data_df` DataFrame to find your ideal weather condition"
   ]
  },
  {
   "cell_type": "code",
   "execution_count": 4,
   "metadata": {},
   "outputs": [
    {
     "data": {
      "text/html": [
       "<div>\n",
       "<style scoped>\n",
       "    .dataframe tbody tr th:only-of-type {\n",
       "        vertical-align: middle;\n",
       "    }\n",
       "\n",
       "    .dataframe tbody tr th {\n",
       "        vertical-align: top;\n",
       "    }\n",
       "\n",
       "    .dataframe thead th {\n",
       "        text-align: right;\n",
       "    }\n",
       "</style>\n",
       "<table border=\"1\" class=\"dataframe\">\n",
       "  <thead>\n",
       "    <tr style=\"text-align: right;\">\n",
       "      <th></th>\n",
       "      <th>City_ID</th>\n",
       "      <th>City</th>\n",
       "      <th>Lat</th>\n",
       "      <th>Lng</th>\n",
       "      <th>Max Temp</th>\n",
       "      <th>Humidity</th>\n",
       "      <th>Cloudiness</th>\n",
       "      <th>Wind Speed</th>\n",
       "      <th>Country</th>\n",
       "      <th>Date</th>\n",
       "    </tr>\n",
       "  </thead>\n",
       "  <tbody>\n",
       "    <tr>\n",
       "      <th>73</th>\n",
       "      <td>73</td>\n",
       "      <td>saint-pierre</td>\n",
       "      <td>-21.3393</td>\n",
       "      <td>55.4781</td>\n",
       "      <td>296.97</td>\n",
       "      <td>60</td>\n",
       "      <td>0</td>\n",
       "      <td>3.09</td>\n",
       "      <td>RE</td>\n",
       "      <td>1707263554</td>\n",
       "    </tr>\n",
       "    <tr>\n",
       "      <th>103</th>\n",
       "      <td>103</td>\n",
       "      <td>narasannapeta</td>\n",
       "      <td>18.4167</td>\n",
       "      <td>84.0500</td>\n",
       "      <td>295.02</td>\n",
       "      <td>87</td>\n",
       "      <td>0</td>\n",
       "      <td>1.75</td>\n",
       "      <td>IN</td>\n",
       "      <td>1707263559</td>\n",
       "    </tr>\n",
       "    <tr>\n",
       "      <th>217</th>\n",
       "      <td>217</td>\n",
       "      <td>nova sintra</td>\n",
       "      <td>14.8667</td>\n",
       "      <td>-24.7167</td>\n",
       "      <td>294.32</td>\n",
       "      <td>71</td>\n",
       "      <td>0</td>\n",
       "      <td>4.32</td>\n",
       "      <td>CV</td>\n",
       "      <td>1707263577</td>\n",
       "    </tr>\n",
       "    <tr>\n",
       "      <th>219</th>\n",
       "      <td>219</td>\n",
       "      <td>ratnagiri</td>\n",
       "      <td>16.9833</td>\n",
       "      <td>73.3000</td>\n",
       "      <td>297.68</td>\n",
       "      <td>60</td>\n",
       "      <td>0</td>\n",
       "      <td>3.53</td>\n",
       "      <td>IN</td>\n",
       "      <td>1707263578</td>\n",
       "    </tr>\n",
       "    <tr>\n",
       "      <th>265</th>\n",
       "      <td>265</td>\n",
       "      <td>talcahuano</td>\n",
       "      <td>-36.7167</td>\n",
       "      <td>-73.1167</td>\n",
       "      <td>294.97</td>\n",
       "      <td>78</td>\n",
       "      <td>0</td>\n",
       "      <td>3.09</td>\n",
       "      <td>CL</td>\n",
       "      <td>1707263584</td>\n",
       "    </tr>\n",
       "    <tr>\n",
       "      <th>268</th>\n",
       "      <td>268</td>\n",
       "      <td>macas</td>\n",
       "      <td>-2.3167</td>\n",
       "      <td>-78.1167</td>\n",
       "      <td>299.01</td>\n",
       "      <td>69</td>\n",
       "      <td>0</td>\n",
       "      <td>1.54</td>\n",
       "      <td>EC</td>\n",
       "      <td>1707263308</td>\n",
       "    </tr>\n",
       "    <tr>\n",
       "      <th>346</th>\n",
       "      <td>346</td>\n",
       "      <td>punta del este</td>\n",
       "      <td>-34.9667</td>\n",
       "      <td>-54.9500</td>\n",
       "      <td>298.21</td>\n",
       "      <td>83</td>\n",
       "      <td>0</td>\n",
       "      <td>3.60</td>\n",
       "      <td>UY</td>\n",
       "      <td>1707263599</td>\n",
       "    </tr>\n",
       "    <tr>\n",
       "      <th>378</th>\n",
       "      <td>378</td>\n",
       "      <td>vila velha</td>\n",
       "      <td>-20.3297</td>\n",
       "      <td>-40.2925</td>\n",
       "      <td>297.12</td>\n",
       "      <td>92</td>\n",
       "      <td>0</td>\n",
       "      <td>1.34</td>\n",
       "      <td>BR</td>\n",
       "      <td>1707263604</td>\n",
       "    </tr>\n",
       "    <tr>\n",
       "      <th>388</th>\n",
       "      <td>388</td>\n",
       "      <td>mansoa</td>\n",
       "      <td>12.0733</td>\n",
       "      <td>-15.3189</td>\n",
       "      <td>297.26</td>\n",
       "      <td>73</td>\n",
       "      <td>0</td>\n",
       "      <td>0.46</td>\n",
       "      <td>GW</td>\n",
       "      <td>1707263605</td>\n",
       "    </tr>\n",
       "    <tr>\n",
       "      <th>406</th>\n",
       "      <td>406</td>\n",
       "      <td>xai-xai</td>\n",
       "      <td>-25.0519</td>\n",
       "      <td>33.6442</td>\n",
       "      <td>295.21</td>\n",
       "      <td>81</td>\n",
       "      <td>0</td>\n",
       "      <td>0.74</td>\n",
       "      <td>MZ</td>\n",
       "      <td>1707263608</td>\n",
       "    </tr>\n",
       "  </tbody>\n",
       "</table>\n",
       "</div>"
      ],
      "text/plain": [
       "     City_ID            City      Lat      Lng  Max Temp  Humidity  \\\n",
       "73        73    saint-pierre -21.3393  55.4781    296.97        60   \n",
       "103      103   narasannapeta  18.4167  84.0500    295.02        87   \n",
       "217      217     nova sintra  14.8667 -24.7167    294.32        71   \n",
       "219      219       ratnagiri  16.9833  73.3000    297.68        60   \n",
       "265      265      talcahuano -36.7167 -73.1167    294.97        78   \n",
       "268      268           macas  -2.3167 -78.1167    299.01        69   \n",
       "346      346  punta del este -34.9667 -54.9500    298.21        83   \n",
       "378      378      vila velha -20.3297 -40.2925    297.12        92   \n",
       "388      388          mansoa  12.0733 -15.3189    297.26        73   \n",
       "406      406         xai-xai -25.0519  33.6442    295.21        81   \n",
       "\n",
       "     Cloudiness  Wind Speed Country        Date  \n",
       "73            0        3.09      RE  1707263554  \n",
       "103           0        1.75      IN  1707263559  \n",
       "217           0        4.32      CV  1707263577  \n",
       "219           0        3.53      IN  1707263578  \n",
       "265           0        3.09      CL  1707263584  \n",
       "268           0        1.54      EC  1707263308  \n",
       "346           0        3.60      UY  1707263599  \n",
       "378           0        1.34      BR  1707263604  \n",
       "388           0        0.46      GW  1707263605  \n",
       "406           0        0.74      MZ  1707263608  "
      ]
     },
     "execution_count": 4,
     "metadata": {},
     "output_type": "execute_result"
    }
   ],
   "source": [
    "# Drop any rows with null values\n",
    "city_data_df.dropna(inplace=True)\n",
    "\n",
    "# Apply the criteria\n",
    "filtered_cities_df = city_data_df[\n",
    "    (city_data_df['Max Temp'] > 294.15) & (city_data_df['Max Temp'] < 300.15) & \n",
    "    (city_data_df['Wind Speed'] < 4.5) & \n",
    "    (city_data_df['Cloudiness'] == 0)\n",
    "]\n",
    "\n",
    "# Display a sample of the data\n",
    "filtered_cities_df"
   ]
  },
  {
   "cell_type": "markdown",
   "metadata": {},
   "source": [
    "### Step 3: Create a new DataFrame called `hotel_df`."
   ]
  },
  {
   "cell_type": "code",
   "execution_count": 5,
   "metadata": {},
   "outputs": [
    {
     "data": {
      "text/html": [
       "<div>\n",
       "<style scoped>\n",
       "    .dataframe tbody tr th:only-of-type {\n",
       "        vertical-align: middle;\n",
       "    }\n",
       "\n",
       "    .dataframe tbody tr th {\n",
       "        vertical-align: top;\n",
       "    }\n",
       "\n",
       "    .dataframe thead th {\n",
       "        text-align: right;\n",
       "    }\n",
       "</style>\n",
       "<table border=\"1\" class=\"dataframe\">\n",
       "  <thead>\n",
       "    <tr style=\"text-align: right;\">\n",
       "      <th></th>\n",
       "      <th>City</th>\n",
       "      <th>Country</th>\n",
       "      <th>Lat</th>\n",
       "      <th>Lng</th>\n",
       "      <th>Humidity</th>\n",
       "      <th>Hotel Name</th>\n",
       "    </tr>\n",
       "  </thead>\n",
       "  <tbody>\n",
       "    <tr>\n",
       "      <th>73</th>\n",
       "      <td>saint-pierre</td>\n",
       "      <td>RE</td>\n",
       "      <td>-21.3393</td>\n",
       "      <td>55.4781</td>\n",
       "      <td>60</td>\n",
       "      <td></td>\n",
       "    </tr>\n",
       "    <tr>\n",
       "      <th>103</th>\n",
       "      <td>narasannapeta</td>\n",
       "      <td>IN</td>\n",
       "      <td>18.4167</td>\n",
       "      <td>84.0500</td>\n",
       "      <td>87</td>\n",
       "      <td></td>\n",
       "    </tr>\n",
       "    <tr>\n",
       "      <th>217</th>\n",
       "      <td>nova sintra</td>\n",
       "      <td>CV</td>\n",
       "      <td>14.8667</td>\n",
       "      <td>-24.7167</td>\n",
       "      <td>71</td>\n",
       "      <td></td>\n",
       "    </tr>\n",
       "    <tr>\n",
       "      <th>219</th>\n",
       "      <td>ratnagiri</td>\n",
       "      <td>IN</td>\n",
       "      <td>16.9833</td>\n",
       "      <td>73.3000</td>\n",
       "      <td>60</td>\n",
       "      <td></td>\n",
       "    </tr>\n",
       "    <tr>\n",
       "      <th>265</th>\n",
       "      <td>talcahuano</td>\n",
       "      <td>CL</td>\n",
       "      <td>-36.7167</td>\n",
       "      <td>-73.1167</td>\n",
       "      <td>78</td>\n",
       "      <td></td>\n",
       "    </tr>\n",
       "    <tr>\n",
       "      <th>268</th>\n",
       "      <td>macas</td>\n",
       "      <td>EC</td>\n",
       "      <td>-2.3167</td>\n",
       "      <td>-78.1167</td>\n",
       "      <td>69</td>\n",
       "      <td></td>\n",
       "    </tr>\n",
       "    <tr>\n",
       "      <th>346</th>\n",
       "      <td>punta del este</td>\n",
       "      <td>UY</td>\n",
       "      <td>-34.9667</td>\n",
       "      <td>-54.9500</td>\n",
       "      <td>83</td>\n",
       "      <td></td>\n",
       "    </tr>\n",
       "    <tr>\n",
       "      <th>378</th>\n",
       "      <td>vila velha</td>\n",
       "      <td>BR</td>\n",
       "      <td>-20.3297</td>\n",
       "      <td>-40.2925</td>\n",
       "      <td>92</td>\n",
       "      <td></td>\n",
       "    </tr>\n",
       "    <tr>\n",
       "      <th>388</th>\n",
       "      <td>mansoa</td>\n",
       "      <td>GW</td>\n",
       "      <td>12.0733</td>\n",
       "      <td>-15.3189</td>\n",
       "      <td>73</td>\n",
       "      <td></td>\n",
       "    </tr>\n",
       "    <tr>\n",
       "      <th>406</th>\n",
       "      <td>xai-xai</td>\n",
       "      <td>MZ</td>\n",
       "      <td>-25.0519</td>\n",
       "      <td>33.6442</td>\n",
       "      <td>81</td>\n",
       "      <td></td>\n",
       "    </tr>\n",
       "  </tbody>\n",
       "</table>\n",
       "</div>"
      ],
      "text/plain": [
       "               City Country      Lat      Lng  Humidity Hotel Name\n",
       "73     saint-pierre      RE -21.3393  55.4781        60           \n",
       "103   narasannapeta      IN  18.4167  84.0500        87           \n",
       "217     nova sintra      CV  14.8667 -24.7167        71           \n",
       "219       ratnagiri      IN  16.9833  73.3000        60           \n",
       "265      talcahuano      CL -36.7167 -73.1167        78           \n",
       "268           macas      EC  -2.3167 -78.1167        69           \n",
       "346  punta del este      UY -34.9667 -54.9500        83           \n",
       "378      vila velha      BR -20.3297 -40.2925        92           \n",
       "388          mansoa      GW  12.0733 -15.3189        73           \n",
       "406         xai-xai      MZ -25.0519  33.6442        81           "
      ]
     },
     "execution_count": 5,
     "metadata": {},
     "output_type": "execute_result"
    }
   ],
   "source": [
    "# 1. Create hotel_df DataFrame\n",
    "hotel_df = filtered_cities_df[['City', 'Country', 'Lat', 'Lng', 'Humidity']].copy()\n",
    "\n",
    "# 2. Add an empty column for Hotel Name\n",
    "hotel_df['Hotel Name'] = ''\n",
    "\n",
    "# 3. Display sample data\n",
    "hotel_df"
   ]
  },
  {
   "cell_type": "markdown",
   "metadata": {},
   "source": [
    "### Step 4: For each city, use the Geoapify API to find the first hotel located within 10,000 metres of your coordinates."
   ]
  },
  {
   "cell_type": "code",
   "execution_count": 6,
   "metadata": {},
   "outputs": [
    {
     "name": "stdout",
     "output_type": "stream",
     "text": [
      "Starting hotel search\n",
      "Hotel found for saint-pierre: Tropic Hotel\n",
      "No hotel found or error for narasannapeta: 200, {'type': 'FeatureCollection', 'features': []}\n",
      "Hotel found for nova sintra: Residência Ka Dencho\n",
      "Hotel found for ratnagiri: Vihar\n",
      "Hotel found for talcahuano: Club Recreativo Armada de Chile\n",
      "Hotel found for macas: Nivel 5\n",
      "Hotel found for punta del este: Hotel Aquarium\n",
      "Hotel found for vila velha: Hotel Prainha\n",
      "Hotel found for mansoa: Uaque Resort Hotel\n",
      "No hotel found or error for xai-xai: 200, {'type': 'FeatureCollection', 'features': []}\n"
     ]
    },
    {
     "data": {
      "text/html": [
       "<div>\n",
       "<style scoped>\n",
       "    .dataframe tbody tr th:only-of-type {\n",
       "        vertical-align: middle;\n",
       "    }\n",
       "\n",
       "    .dataframe tbody tr th {\n",
       "        vertical-align: top;\n",
       "    }\n",
       "\n",
       "    .dataframe thead th {\n",
       "        text-align: right;\n",
       "    }\n",
       "</style>\n",
       "<table border=\"1\" class=\"dataframe\">\n",
       "  <thead>\n",
       "    <tr style=\"text-align: right;\">\n",
       "      <th></th>\n",
       "      <th>City</th>\n",
       "      <th>Country</th>\n",
       "      <th>Lat</th>\n",
       "      <th>Lng</th>\n",
       "      <th>Humidity</th>\n",
       "      <th>Hotel Name</th>\n",
       "    </tr>\n",
       "  </thead>\n",
       "  <tbody>\n",
       "    <tr>\n",
       "      <th>73</th>\n",
       "      <td>saint-pierre</td>\n",
       "      <td>RE</td>\n",
       "      <td>-21.3393</td>\n",
       "      <td>55.4781</td>\n",
       "      <td>60</td>\n",
       "      <td>Tropic Hotel</td>\n",
       "    </tr>\n",
       "    <tr>\n",
       "      <th>103</th>\n",
       "      <td>narasannapeta</td>\n",
       "      <td>IN</td>\n",
       "      <td>18.4167</td>\n",
       "      <td>84.0500</td>\n",
       "      <td>87</td>\n",
       "      <td>No hotel found</td>\n",
       "    </tr>\n",
       "    <tr>\n",
       "      <th>217</th>\n",
       "      <td>nova sintra</td>\n",
       "      <td>CV</td>\n",
       "      <td>14.8667</td>\n",
       "      <td>-24.7167</td>\n",
       "      <td>71</td>\n",
       "      <td>Residência Ka Dencho</td>\n",
       "    </tr>\n",
       "    <tr>\n",
       "      <th>219</th>\n",
       "      <td>ratnagiri</td>\n",
       "      <td>IN</td>\n",
       "      <td>16.9833</td>\n",
       "      <td>73.3000</td>\n",
       "      <td>60</td>\n",
       "      <td>Vihar</td>\n",
       "    </tr>\n",
       "    <tr>\n",
       "      <th>265</th>\n",
       "      <td>talcahuano</td>\n",
       "      <td>CL</td>\n",
       "      <td>-36.7167</td>\n",
       "      <td>-73.1167</td>\n",
       "      <td>78</td>\n",
       "      <td>Club Recreativo Armada de Chile</td>\n",
       "    </tr>\n",
       "  </tbody>\n",
       "</table>\n",
       "</div>"
      ],
      "text/plain": [
       "              City Country      Lat      Lng  Humidity  \\\n",
       "73    saint-pierre      RE -21.3393  55.4781        60   \n",
       "103  narasannapeta      IN  18.4167  84.0500        87   \n",
       "217    nova sintra      CV  14.8667 -24.7167        71   \n",
       "219      ratnagiri      IN  16.9833  73.3000        60   \n",
       "265     talcahuano      CL -36.7167 -73.1167        78   \n",
       "\n",
       "                          Hotel Name  \n",
       "73                      Tropic Hotel  \n",
       "103                   No hotel found  \n",
       "217             Residência Ka Dencho  \n",
       "219                            Vihar  \n",
       "265  Club Recreativo Armada de Chile  "
      ]
     },
     "execution_count": 6,
     "metadata": {},
     "output_type": "execute_result"
    }
   ],
   "source": [
    "# Set parameters to search for a hotel\n",
    "radius = 10000  # Search within 10,000 meters (10 km) of the city coordinates\n",
    "params = {\n",
    "    'apiKey': geoapify_key,\n",
    "    'categories': 'accommodation.hotel',  # Use the correct category for hotels\n",
    "    'limit': 1  # We only need the first result\n",
    "}\n",
    "\n",
    "# Print a message to follow up the hotel search\n",
    "print(\"Starting hotel search\")\n",
    "\n",
    "# Iterate through the hotel_df DataFrame\n",
    "for index, row in hotel_df.iterrows():\n",
    "    # Get latitude, longitude from the DataFrame\n",
    "    lat, lng = row['Lat'], row['Lng']\n",
    "    \n",
    "    # Add filter and bias parameters with the current city's latitude and longitude to the params dictionary\n",
    "    params[\"filter\"] = f\"circle:{lng},{lat},{radius}\"\n",
    "    params[\"bias\"] = f\"proximity:{lng},{lat}\"\n",
    "    \n",
    "    # Set base URL\n",
    "    base_url = \"https://api.geoapify.com/v2/places\"\n",
    "\n",
    "    # Make an API request using the params dictionary\n",
    "    response = requests.get(base_url, params=params)\n",
    "    \n",
    "    # Convert the API response to JSON format\n",
    "    name_address = response.json()\n",
    "    \n",
    "    # Check for successful response\n",
    "    if response.status_code == 200 and 'features' in name_address and len(name_address['features']) > 0:\n",
    "        # Grab the first hotel from the results and store the name\n",
    "        hotel_df.loc[index, \"Hotel Name\"] = name_address[\"features\"][0][\"properties\"][\"name\"]\n",
    "        print(f\"Hotel found for {row['City']}: {hotel_df.loc[index, 'Hotel Name']}\")\n",
    "    else:\n",
    "        # If no hotel is found, or if there's an error, set the hotel name as \"No hotel found\".\n",
    "        hotel_df.loc[index, \"Hotel Name\"] = \"No hotel found\"\n",
    "        print(f\"No hotel found or error for {row['City']}: {response.status_code}, {name_address}\")\n",
    "\n",
    "# Display sample data\n",
    "hotel_df.head()\n",
    "\n"
   ]
  },
  {
   "cell_type": "markdown",
   "metadata": {},
   "source": [
    "### Step 5: Add the hotel name and the country as additional information in the hover message for each city in the map."
   ]
  },
  {
   "cell_type": "code",
   "execution_count": 7,
   "metadata": {},
   "outputs": [
    {
     "data": {
      "application/vnd.plotly.v1+json": {
       "config": {
        "plotlyServerURL": "https://plot.ly"
       },
       "data": [
        {
         "customdata": [
          [
           "RE",
           "Tropic Hotel",
           60,
           -21.3393,
           55.4781
          ],
          [
           "IN",
           "No hotel found",
           87,
           18.4167,
           84.05
          ],
          [
           "CV",
           "Residência Ka Dencho",
           71,
           14.8667,
           -24.7167
          ],
          [
           "IN",
           "Vihar",
           60,
           16.9833,
           73.3
          ],
          [
           "CL",
           "Club Recreativo Armada de Chile",
           78,
           -36.7167,
           -73.1167
          ],
          [
           "EC",
           "Nivel 5",
           69,
           -2.3167,
           -78.1167
          ],
          [
           "UY",
           "Hotel Aquarium",
           83,
           -34.9667,
           -54.95
          ],
          [
           "BR",
           "Hotel Prainha",
           92,
           -20.3297,
           -40.2925
          ],
          [
           "GW",
           "Uaque Resort Hotel",
           73,
           12.0733,
           -15.3189
          ],
          [
           "MZ",
           "No hotel found",
           81,
           -25.0519,
           33.6442
          ]
         ],
         "geo": "geo",
         "hovertemplate": "<b>%{hovertext}</b><br><br>Lat=%{customdata[3]}<br>Lng=%{customdata[4]}<br>Country=%{customdata[0]}<br>Hotel Name=%{customdata[1]}<br>Humidity=%{customdata[2]}<extra></extra>",
         "hovertext": [
          "saint-pierre",
          "narasannapeta",
          "nova sintra",
          "ratnagiri",
          "talcahuano",
          "macas",
          "punta del este",
          "vila velha",
          "mansoa",
          "xai-xai"
         ],
         "lat": [
          -21.3393,
          18.4167,
          14.8667,
          16.9833,
          -36.7167,
          -2.3167,
          -34.9667,
          -20.3297,
          12.0733,
          -25.0519
         ],
         "legendgroup": "",
         "lon": [
          55.4781,
          84.05,
          -24.7167,
          73.3,
          -73.1167,
          -78.1167,
          -54.95,
          -40.2925,
          -15.3189,
          33.6442
         ],
         "marker": {
          "color": "#636efa",
          "symbol": "circle"
         },
         "mode": "markers",
         "name": "",
         "showlegend": false,
         "type": "scattergeo"
        }
       ],
       "layout": {
        "geo": {
         "center": {},
         "domain": {
          "x": [
           0,
           1
          ],
          "y": [
           0,
           1
          ]
         },
         "projection": {
          "type": "natural earth"
         }
        },
        "legend": {
         "tracegroupgap": 0
        },
        "template": {
         "data": {
          "bar": [
           {
            "error_x": {
             "color": "#2a3f5f"
            },
            "error_y": {
             "color": "#2a3f5f"
            },
            "marker": {
             "line": {
              "color": "#E5ECF6",
              "width": 0.5
             },
             "pattern": {
              "fillmode": "overlay",
              "size": 10,
              "solidity": 0.2
             }
            },
            "type": "bar"
           }
          ],
          "barpolar": [
           {
            "marker": {
             "line": {
              "color": "#E5ECF6",
              "width": 0.5
             },
             "pattern": {
              "fillmode": "overlay",
              "size": 10,
              "solidity": 0.2
             }
            },
            "type": "barpolar"
           }
          ],
          "carpet": [
           {
            "aaxis": {
             "endlinecolor": "#2a3f5f",
             "gridcolor": "white",
             "linecolor": "white",
             "minorgridcolor": "white",
             "startlinecolor": "#2a3f5f"
            },
            "baxis": {
             "endlinecolor": "#2a3f5f",
             "gridcolor": "white",
             "linecolor": "white",
             "minorgridcolor": "white",
             "startlinecolor": "#2a3f5f"
            },
            "type": "carpet"
           }
          ],
          "choropleth": [
           {
            "colorbar": {
             "outlinewidth": 0,
             "ticks": ""
            },
            "type": "choropleth"
           }
          ],
          "contour": [
           {
            "colorbar": {
             "outlinewidth": 0,
             "ticks": ""
            },
            "colorscale": [
             [
              0,
              "#0d0887"
             ],
             [
              0.1111111111111111,
              "#46039f"
             ],
             [
              0.2222222222222222,
              "#7201a8"
             ],
             [
              0.3333333333333333,
              "#9c179e"
             ],
             [
              0.4444444444444444,
              "#bd3786"
             ],
             [
              0.5555555555555556,
              "#d8576b"
             ],
             [
              0.6666666666666666,
              "#ed7953"
             ],
             [
              0.7777777777777778,
              "#fb9f3a"
             ],
             [
              0.8888888888888888,
              "#fdca26"
             ],
             [
              1,
              "#f0f921"
             ]
            ],
            "type": "contour"
           }
          ],
          "contourcarpet": [
           {
            "colorbar": {
             "outlinewidth": 0,
             "ticks": ""
            },
            "type": "contourcarpet"
           }
          ],
          "heatmap": [
           {
            "colorbar": {
             "outlinewidth": 0,
             "ticks": ""
            },
            "colorscale": [
             [
              0,
              "#0d0887"
             ],
             [
              0.1111111111111111,
              "#46039f"
             ],
             [
              0.2222222222222222,
              "#7201a8"
             ],
             [
              0.3333333333333333,
              "#9c179e"
             ],
             [
              0.4444444444444444,
              "#bd3786"
             ],
             [
              0.5555555555555556,
              "#d8576b"
             ],
             [
              0.6666666666666666,
              "#ed7953"
             ],
             [
              0.7777777777777778,
              "#fb9f3a"
             ],
             [
              0.8888888888888888,
              "#fdca26"
             ],
             [
              1,
              "#f0f921"
             ]
            ],
            "type": "heatmap"
           }
          ],
          "heatmapgl": [
           {
            "colorbar": {
             "outlinewidth": 0,
             "ticks": ""
            },
            "colorscale": [
             [
              0,
              "#0d0887"
             ],
             [
              0.1111111111111111,
              "#46039f"
             ],
             [
              0.2222222222222222,
              "#7201a8"
             ],
             [
              0.3333333333333333,
              "#9c179e"
             ],
             [
              0.4444444444444444,
              "#bd3786"
             ],
             [
              0.5555555555555556,
              "#d8576b"
             ],
             [
              0.6666666666666666,
              "#ed7953"
             ],
             [
              0.7777777777777778,
              "#fb9f3a"
             ],
             [
              0.8888888888888888,
              "#fdca26"
             ],
             [
              1,
              "#f0f921"
             ]
            ],
            "type": "heatmapgl"
           }
          ],
          "histogram": [
           {
            "marker": {
             "pattern": {
              "fillmode": "overlay",
              "size": 10,
              "solidity": 0.2
             }
            },
            "type": "histogram"
           }
          ],
          "histogram2d": [
           {
            "colorbar": {
             "outlinewidth": 0,
             "ticks": ""
            },
            "colorscale": [
             [
              0,
              "#0d0887"
             ],
             [
              0.1111111111111111,
              "#46039f"
             ],
             [
              0.2222222222222222,
              "#7201a8"
             ],
             [
              0.3333333333333333,
              "#9c179e"
             ],
             [
              0.4444444444444444,
              "#bd3786"
             ],
             [
              0.5555555555555556,
              "#d8576b"
             ],
             [
              0.6666666666666666,
              "#ed7953"
             ],
             [
              0.7777777777777778,
              "#fb9f3a"
             ],
             [
              0.8888888888888888,
              "#fdca26"
             ],
             [
              1,
              "#f0f921"
             ]
            ],
            "type": "histogram2d"
           }
          ],
          "histogram2dcontour": [
           {
            "colorbar": {
             "outlinewidth": 0,
             "ticks": ""
            },
            "colorscale": [
             [
              0,
              "#0d0887"
             ],
             [
              0.1111111111111111,
              "#46039f"
             ],
             [
              0.2222222222222222,
              "#7201a8"
             ],
             [
              0.3333333333333333,
              "#9c179e"
             ],
             [
              0.4444444444444444,
              "#bd3786"
             ],
             [
              0.5555555555555556,
              "#d8576b"
             ],
             [
              0.6666666666666666,
              "#ed7953"
             ],
             [
              0.7777777777777778,
              "#fb9f3a"
             ],
             [
              0.8888888888888888,
              "#fdca26"
             ],
             [
              1,
              "#f0f921"
             ]
            ],
            "type": "histogram2dcontour"
           }
          ],
          "mesh3d": [
           {
            "colorbar": {
             "outlinewidth": 0,
             "ticks": ""
            },
            "type": "mesh3d"
           }
          ],
          "parcoords": [
           {
            "line": {
             "colorbar": {
              "outlinewidth": 0,
              "ticks": ""
             }
            },
            "type": "parcoords"
           }
          ],
          "pie": [
           {
            "automargin": true,
            "type": "pie"
           }
          ],
          "scatter": [
           {
            "marker": {
             "colorbar": {
              "outlinewidth": 0,
              "ticks": ""
             }
            },
            "type": "scatter"
           }
          ],
          "scatter3d": [
           {
            "line": {
             "colorbar": {
              "outlinewidth": 0,
              "ticks": ""
             }
            },
            "marker": {
             "colorbar": {
              "outlinewidth": 0,
              "ticks": ""
             }
            },
            "type": "scatter3d"
           }
          ],
          "scattercarpet": [
           {
            "marker": {
             "colorbar": {
              "outlinewidth": 0,
              "ticks": ""
             }
            },
            "type": "scattercarpet"
           }
          ],
          "scattergeo": [
           {
            "marker": {
             "colorbar": {
              "outlinewidth": 0,
              "ticks": ""
             }
            },
            "type": "scattergeo"
           }
          ],
          "scattergl": [
           {
            "marker": {
             "colorbar": {
              "outlinewidth": 0,
              "ticks": ""
             }
            },
            "type": "scattergl"
           }
          ],
          "scattermapbox": [
           {
            "marker": {
             "colorbar": {
              "outlinewidth": 0,
              "ticks": ""
             }
            },
            "type": "scattermapbox"
           }
          ],
          "scatterpolar": [
           {
            "marker": {
             "colorbar": {
              "outlinewidth": 0,
              "ticks": ""
             }
            },
            "type": "scatterpolar"
           }
          ],
          "scatterpolargl": [
           {
            "marker": {
             "colorbar": {
              "outlinewidth": 0,
              "ticks": ""
             }
            },
            "type": "scatterpolargl"
           }
          ],
          "scatterternary": [
           {
            "marker": {
             "colorbar": {
              "outlinewidth": 0,
              "ticks": ""
             }
            },
            "type": "scatterternary"
           }
          ],
          "surface": [
           {
            "colorbar": {
             "outlinewidth": 0,
             "ticks": ""
            },
            "colorscale": [
             [
              0,
              "#0d0887"
             ],
             [
              0.1111111111111111,
              "#46039f"
             ],
             [
              0.2222222222222222,
              "#7201a8"
             ],
             [
              0.3333333333333333,
              "#9c179e"
             ],
             [
              0.4444444444444444,
              "#bd3786"
             ],
             [
              0.5555555555555556,
              "#d8576b"
             ],
             [
              0.6666666666666666,
              "#ed7953"
             ],
             [
              0.7777777777777778,
              "#fb9f3a"
             ],
             [
              0.8888888888888888,
              "#fdca26"
             ],
             [
              1,
              "#f0f921"
             ]
            ],
            "type": "surface"
           }
          ],
          "table": [
           {
            "cells": {
             "fill": {
              "color": "#EBF0F8"
             },
             "line": {
              "color": "white"
             }
            },
            "header": {
             "fill": {
              "color": "#C8D4E3"
             },
             "line": {
              "color": "white"
             }
            },
            "type": "table"
           }
          ]
         },
         "layout": {
          "annotationdefaults": {
           "arrowcolor": "#2a3f5f",
           "arrowhead": 0,
           "arrowwidth": 1
          },
          "autotypenumbers": "strict",
          "coloraxis": {
           "colorbar": {
            "outlinewidth": 0,
            "ticks": ""
           }
          },
          "colorscale": {
           "diverging": [
            [
             0,
             "#8e0152"
            ],
            [
             0.1,
             "#c51b7d"
            ],
            [
             0.2,
             "#de77ae"
            ],
            [
             0.3,
             "#f1b6da"
            ],
            [
             0.4,
             "#fde0ef"
            ],
            [
             0.5,
             "#f7f7f7"
            ],
            [
             0.6,
             "#e6f5d0"
            ],
            [
             0.7,
             "#b8e186"
            ],
            [
             0.8,
             "#7fbc41"
            ],
            [
             0.9,
             "#4d9221"
            ],
            [
             1,
             "#276419"
            ]
           ],
           "sequential": [
            [
             0,
             "#0d0887"
            ],
            [
             0.1111111111111111,
             "#46039f"
            ],
            [
             0.2222222222222222,
             "#7201a8"
            ],
            [
             0.3333333333333333,
             "#9c179e"
            ],
            [
             0.4444444444444444,
             "#bd3786"
            ],
            [
             0.5555555555555556,
             "#d8576b"
            ],
            [
             0.6666666666666666,
             "#ed7953"
            ],
            [
             0.7777777777777778,
             "#fb9f3a"
            ],
            [
             0.8888888888888888,
             "#fdca26"
            ],
            [
             1,
             "#f0f921"
            ]
           ],
           "sequentialminus": [
            [
             0,
             "#0d0887"
            ],
            [
             0.1111111111111111,
             "#46039f"
            ],
            [
             0.2222222222222222,
             "#7201a8"
            ],
            [
             0.3333333333333333,
             "#9c179e"
            ],
            [
             0.4444444444444444,
             "#bd3786"
            ],
            [
             0.5555555555555556,
             "#d8576b"
            ],
            [
             0.6666666666666666,
             "#ed7953"
            ],
            [
             0.7777777777777778,
             "#fb9f3a"
            ],
            [
             0.8888888888888888,
             "#fdca26"
            ],
            [
             1,
             "#f0f921"
            ]
           ]
          },
          "colorway": [
           "#636efa",
           "#EF553B",
           "#00cc96",
           "#ab63fa",
           "#FFA15A",
           "#19d3f3",
           "#FF6692",
           "#B6E880",
           "#FF97FF",
           "#FECB52"
          ],
          "font": {
           "color": "#2a3f5f"
          },
          "geo": {
           "bgcolor": "white",
           "lakecolor": "white",
           "landcolor": "#E5ECF6",
           "showlakes": true,
           "showland": true,
           "subunitcolor": "white"
          },
          "hoverlabel": {
           "align": "left"
          },
          "hovermode": "closest",
          "mapbox": {
           "style": "light"
          },
          "paper_bgcolor": "white",
          "plot_bgcolor": "#E5ECF6",
          "polar": {
           "angularaxis": {
            "gridcolor": "white",
            "linecolor": "white",
            "ticks": ""
           },
           "bgcolor": "#E5ECF6",
           "radialaxis": {
            "gridcolor": "white",
            "linecolor": "white",
            "ticks": ""
           }
          },
          "scene": {
           "xaxis": {
            "backgroundcolor": "#E5ECF6",
            "gridcolor": "white",
            "gridwidth": 2,
            "linecolor": "white",
            "showbackground": true,
            "ticks": "",
            "zerolinecolor": "white"
           },
           "yaxis": {
            "backgroundcolor": "#E5ECF6",
            "gridcolor": "white",
            "gridwidth": 2,
            "linecolor": "white",
            "showbackground": true,
            "ticks": "",
            "zerolinecolor": "white"
           },
           "zaxis": {
            "backgroundcolor": "#E5ECF6",
            "gridcolor": "white",
            "gridwidth": 2,
            "linecolor": "white",
            "showbackground": true,
            "ticks": "",
            "zerolinecolor": "white"
           }
          },
          "shapedefaults": {
           "line": {
            "color": "#2a3f5f"
           }
          },
          "ternary": {
           "aaxis": {
            "gridcolor": "white",
            "linecolor": "white",
            "ticks": ""
           },
           "baxis": {
            "gridcolor": "white",
            "linecolor": "white",
            "ticks": ""
           },
           "bgcolor": "#E5ECF6",
           "caxis": {
            "gridcolor": "white",
            "linecolor": "white",
            "ticks": ""
           }
          },
          "title": {
           "x": 0.05
          },
          "xaxis": {
           "automargin": true,
           "gridcolor": "white",
           "linecolor": "white",
           "ticks": "",
           "title": {
            "standoff": 15
           },
           "zerolinecolor": "white",
           "zerolinewidth": 2
          },
          "yaxis": {
           "automargin": true,
           "gridcolor": "white",
           "linecolor": "white",
           "ticks": "",
           "title": {
            "standoff": 15
           },
           "zerolinecolor": "white",
           "zerolinewidth": 2
          }
         }
        },
        "title": {
         "text": "Cities with Hotel and Environmental Information"
        }
       }
      }
     },
     "metadata": {},
     "output_type": "display_data"
    }
   ],
   "source": [
    "%%capture --no-display\n",
    "\n",
    "# Create the map\n",
    "fig = px.scatter_geo(hotel_df,\n",
    "                     lat='Lat',\n",
    "                     lon='Lng',\n",
    "                     hover_name='City',\n",
    "                     hover_data={'Country': True, 'Hotel Name': True, 'Humidity': True, 'Lat': True, 'Lng': True},\n",
    "                     projection='natural earth',\n",
    "                     title='Cities with Hotel and Environmental Information')\n",
    "\n",
    "# Show the map\n",
    "fig.show()"
   ]
  },
  {
   "cell_type": "code",
   "execution_count": null,
   "metadata": {},
   "outputs": [],
   "source": []
  }
 ],
 "metadata": {
  "kernelspec": {
   "display_name": "Python 3 (ipykernel)",
   "language": "python",
   "name": "python3"
  },
  "language_info": {
   "codemirror_mode": {
    "name": "ipython",
    "version": 3
   },
   "file_extension": ".py",
   "mimetype": "text/x-python",
   "name": "python",
   "nbconvert_exporter": "python",
   "pygments_lexer": "ipython3",
   "version": "3.9.6"
  },
  "latex_envs": {
   "LaTeX_envs_menu_present": true,
   "autoclose": false,
   "autocomplete": true,
   "bibliofile": "biblio.bib",
   "cite_by": "apalike",
   "current_citInitial": 1,
   "eqLabelWithNumbers": true,
   "eqNumInitial": 1,
   "hotkeys": {
    "equation": "Ctrl-E",
    "itemize": "Ctrl-I"
   },
   "labels_anchors": false,
   "latex_user_defs": false,
   "report_style_numbering": false,
   "user_envs_cfg": false
  }
 },
 "nbformat": 4,
 "nbformat_minor": 4
}
